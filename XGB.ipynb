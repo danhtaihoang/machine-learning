{
 "cells": [
  {
   "cell_type": "markdown",
   "metadata": {},
   "source": [
    "## eXtreme Gradient Boosting (XGBoost)"
   ]
  },
  {
   "cell_type": "code",
   "execution_count": 1,
   "metadata": {},
   "outputs": [],
   "source": [
    "import numpy as np\n",
    "import pandas as pd\n",
    "\n",
    "from sklearn.model_selection import train_test_split,KFold\n",
    "from sklearn.utils import shuffle\n",
    "from sklearn.metrics import confusion_matrix,accuracy_score,precision_score,\\\n",
    "recall_score,roc_curve,auc\n",
    "\n",
    "from sklearn.model_selection import GridSearchCV\n",
    "from xgboost import XGBClassifier\n",
    "\n",
    "import matplotlib.pyplot as plt\n",
    "import seaborn as sns\n",
    "\n",
    "from sklearn.preprocessing import MinMaxScaler\n",
    "from function import split_train_test,make_data_balance"
   ]
  },
  {
   "cell_type": "code",
   "execution_count": 2,
   "metadata": {},
   "outputs": [],
   "source": [
    "np.random.seed(1)"
   ]
  },
  {
   "cell_type": "markdown",
   "metadata": {},
   "source": [
    "First of all, the processed data are imported."
   ]
  },
  {
   "cell_type": "code",
   "execution_count": 3,
   "metadata": {},
   "outputs": [
    {
     "name": "stdout",
     "output_type": "stream",
     "text": [
      "['1paradox' '2peptide' '3stigma' '4nki' '5mental' '6smoking' '7anemia'\n",
      " '8language' '9coag' '10tazamia' '11hepato' '12heat' '13ef' '14cervix'\n",
      " '15heart' '16liver' '17nwosu' '18school' '19ibs' '21survival'\n",
      " '29parkinson' '30paradox2' '31renal' '33svr' '35pcos' '36probiotic'\n",
      " '101kidney' '102breast_cancer' '103diabetes_niddk'\n",
      " '104diabetic_retinopathy']\n"
     ]
    }
   ],
   "source": [
    "#data_list = ['1paradox']\n",
    "#data_list = np.loadtxt('data_list.txt',dtype='str')\n",
    "data_list = np.loadtxt('data_list_30sets.txt',dtype='str')\n",
    "#data_list = ['9coag']\n",
    "\n",
    "print(data_list)"
   ]
  },
  {
   "cell_type": "code",
   "execution_count": 4,
   "metadata": {},
   "outputs": [],
   "source": [
    "def read_data(data_id):    \n",
    "    data_name = data_list[data_id]\n",
    "    print('data_name:',data_name)\n",
    "    Xy = np.loadtxt('../classification_data/%s/data_processed_median.dat'%data_name) \n",
    "    X = Xy[:,:-1]\n",
    "    y = Xy[:,-1]\n",
    "\n",
    "    #print(np.unique(y,return_counts=True))\n",
    "    X,y = make_data_balance(X,y)\n",
    "    print(np.unique(y,return_counts=True))\n",
    "\n",
    "    X, y = shuffle(X, y, random_state=1)\n",
    "    X_train,X_test,y_train,y_test = train_test_split(X,y,test_size=0.5,random_state = 1)\n",
    "    \n",
    "    sc = MinMaxScaler()\n",
    "    X_train = sc.fit_transform(X_train)\n",
    "    X_test = sc.transform(X_test)\n",
    "    \n",
    "    return X_train,X_test,y_train,y_test"
   ]
  },
  {
   "cell_type": "code",
   "execution_count": 5,
   "metadata": {},
   "outputs": [],
   "source": [
    "def measure_performance(X_train,X_test,y_train,y_test):\n",
    "    \n",
    "    model = XGBClassifier(n_estimators=100,tree_method = 'auto')\n",
    "\n",
    "    max_depth = [2,4,6,8,10,12]\n",
    "    min_child_weight = [0.2,0.5,0.8,1.]\n",
    "        \n",
    "    #l2 regularization term\n",
    "    reg_lambda = np.logspace(-4,1,num=6)\n",
    "    \n",
    "    #l1 regularization term\n",
    "    reg_alpha = np.logspace(-4,1,num=6) \n",
    "    \n",
    "    # Create hyperparameter options\n",
    "    hyper_parameters = dict(max_depth = max_depth,min_child_weight = min_child_weight,\\\n",
    "                            reg_lambda = reg_lambda, reg_alpha = reg_alpha)\n",
    "    \n",
    "    # Create grid search using cross validation\n",
    "    clf = GridSearchCV(model, hyper_parameters, cv=4, iid='deprecated')\n",
    "    \n",
    "    # Fit grid search\n",
    "    best_model = clf.fit(X_train, y_train)\n",
    "    \n",
    "    # View best hyperparameters\n",
    "    #print('Best Penalty:', best_model.best_estimator_.get_params()['penalty'])\n",
    "    #print('Best C:', best_model.best_estimator_.get_params()['C'])\n",
    "    #print('Best alpha:', best_model.best_estimator_.get_params()['alpha'])\n",
    "    #print('Best l1_ratio:', best_model.best_estimator_.get_params()['l1_ratio'])\n",
    "    \n",
    "    # best hyper parameters\n",
    "    print('best_hyper_parameters:',best_model.best_params_)\n",
    "\n",
    "    # performance:\n",
    "    y_test_pred = best_model.best_estimator_.predict(X_test)\n",
    "    acc = accuracy_score(y_test,y_test_pred)\n",
    "    #print('Accuracy:', acc)\n",
    "\n",
    "    p_test_pred = best_model.best_estimator_.predict_proba(X_test) # prob of [0,1]\n",
    "    p_test_pred = p_test_pred[:,1] # prob of 1    \n",
    "    fp,tp,thresholds = roc_curve(y_test, p_test_pred, drop_intermediate=False)\n",
    "    roc_auc = auc(fp,tp)\n",
    "    #print('AUC:', roc_auc)\n",
    "\n",
    "    precision = precision_score(y_test,y_test_pred)\n",
    "    #print('Precision:',precision)\n",
    "\n",
    "    recall = recall_score(y_test,y_test_pred)\n",
    "    #print('Recall:',recall)\n",
    "    \n",
    "    f1_score = 2*precision*recall/(precision+recall)\n",
    "\n",
    "    return acc,roc_auc,precision,recall,f1_score"
   ]
  },
  {
   "cell_type": "code",
   "execution_count": 6,
   "metadata": {},
   "outputs": [
    {
     "name": "stdout",
     "output_type": "stream",
     "text": [
      "data_name: 1paradox\n",
      "(array([-1.,  1.]), array([60, 60]))\n",
      "best_hyper_parameters: {'max_depth': 4, 'min_child_weight': 0.2, 'reg_alpha': 0.0001, 'reg_lambda': 10.0}\n",
      "0 0.8 0.899529964747356 0.7037037037037037 0.8260869565217391 0.76\n",
      "data_name: 2peptide\n",
      "(array([-1.,  1.]), array([23, 23]))\n",
      "best_hyper_parameters: {'max_depth': 2, 'min_child_weight': 0.2, 'reg_alpha': 0.0001, 'reg_lambda': 0.0001}\n",
      "1 1.0 1.0 1.0 1.0 1.0\n",
      "data_name: 3stigma\n",
      "(array([-1.,  1.]), array([2725, 2725]))\n",
      "best_hyper_parameters: {'max_depth': 2, 'min_child_weight': 0.2, 'reg_alpha': 0.0001, 'reg_lambda': 0.0001}\n",
      "2 1.0 1.0 1.0 1.0 1.0\n",
      "data_name: 4nki\n",
      "(array([-1.,  1.]), array([77, 77]))\n",
      "best_hyper_parameters: {'max_depth': 4, 'min_child_weight': 0.8, 'reg_alpha': 0.01, 'reg_lambda': 1.0}\n",
      "3 0.8311688311688312 0.9028925619834711 0.8974358974358975 0.7954545454545454 0.8433734939759037\n",
      "data_name: 5mental\n",
      "(array([-1.,  1.]), array([147, 147]))\n",
      "best_hyper_parameters: {'max_depth': 2, 'min_child_weight': 0.8, 'reg_alpha': 10.0, 'reg_lambda': 10.0}\n",
      "4 0.6802721088435374 0.7330917874396136 0.7123287671232876 0.6666666666666666 0.6887417218543046\n",
      "data_name: 6smoking\n",
      "(array([-1.,  1.]), array([722, 722]))\n",
      "best_hyper_parameters: {'max_depth': 2, 'min_child_weight': 0.2, 'reg_alpha': 0.0001, 'reg_lambda': 0.0001}\n",
      "5 1.0 1.0 1.0 1.0 1.0\n",
      "data_name: 7anemia\n",
      "(array([-1.,  1.]), array([43, 43]))\n",
      "best_hyper_parameters: {'max_depth': 2, 'min_child_weight': 0.2, 'reg_alpha': 0.01, 'reg_lambda': 0.01}\n",
      "6 0.8604651162790697 0.9466666666666667 0.9523809523809523 0.8 0.8695652173913043\n",
      "data_name: 8language\n",
      "(array([-1.,  1.]), array([267, 267]))\n",
      "best_hyper_parameters: {'max_depth': 4, 'min_child_weight': 1.0, 'reg_alpha': 0.01, 'reg_lambda': 1.0}\n",
      "7 0.7565543071161048 0.8238661876964527 0.7391304347826086 0.7786259541984732 0.758364312267658\n",
      "data_name: 9coag\n",
      "(array([-1.,  1.]), array([504, 504]))\n",
      "best_hyper_parameters: {'max_depth': 2, 'min_child_weight': 0.5, 'reg_alpha': 0.001, 'reg_lambda': 1.0}\n",
      "8 0.628968253968254 0.6188521354701192 0.6652542372881356 0.5924528301886792 0.626746506986028\n",
      "data_name: 10tazamia\n",
      "(array([-1.,  1.]), array([124, 124]))\n",
      "best_hyper_parameters: {'max_depth': 4, 'min_child_weight': 0.8, 'reg_alpha': 0.0001, 'reg_lambda': 0.0001}\n",
      "9 0.6774193548387096 0.7314211212516298 0.7192982456140351 0.6307692307692307 0.6721311475409837\n",
      "data_name: 11hepato\n",
      "(array([-1.,  1.]), array([63, 63]))\n",
      "best_hyper_parameters: {'max_depth': 2, 'min_child_weight': 0.8, 'reg_alpha': 0.01, 'reg_lambda': 10.0}\n",
      "10 0.6825396825396826 0.7555555555555555 0.6756756756756757 0.7575757575757576 0.7142857142857142\n",
      "data_name: 12heat\n",
      "(array([-1.,  1.]), array([83, 83]))\n",
      "best_hyper_parameters: {'max_depth': 6, 'min_child_weight': 1.0, 'reg_alpha': 0.0001, 'reg_lambda': 0.0001}\n",
      "11 0.5542168674698795 0.5778164924506388 0.5581395348837209 0.5714285714285714 0.5647058823529412\n",
      "data_name: 13ef\n",
      "(array([-1.,  1.]), array([93, 93]))\n",
      "best_hyper_parameters: {'max_depth': 2, 'min_child_weight': 0.2, 'reg_alpha': 0.0001, 'reg_lambda': 0.0001}\n",
      "12 1.0 1.0 1.0 1.0 1.0\n",
      "data_name: 14cervix\n",
      "(array([-1.,  1.]), array([24, 24]))\n",
      "best_hyper_parameters: {'max_depth': 2, 'min_child_weight': 0.2, 'reg_alpha': 0.0001, 'reg_lambda': 1.0}\n",
      "13 0.9583333333333334 0.8962962962962961 1.0 0.8888888888888888 0.9411764705882353\n",
      "data_name: 15heart\n",
      "(array([-1.,  1.]), array([138, 138]))\n",
      "best_hyper_parameters: {'max_depth': 2, 'min_child_weight': 0.8, 'reg_alpha': 0.0001, 'reg_lambda': 0.01}\n",
      "14 0.8260869565217391 0.8944151738672286 0.7733333333333333 0.8923076923076924 0.8285714285714286\n",
      "data_name: 16liver\n",
      "(array([-1.,  1.]), array([167, 167]))\n",
      "best_hyper_parameters: {'max_depth': 10, 'min_child_weight': 0.2, 'reg_alpha': 0.1, 'reg_lambda': 10.0}\n",
      "15 0.7005988023952096 0.7216954022988507 0.65 0.8125 0.7222222222222223\n",
      "data_name: 17nwosu\n",
      "(array([-1.,  1.]), array([59, 59]))\n",
      "best_hyper_parameters: {'max_depth': 2, 'min_child_weight': 0.2, 'reg_alpha': 0.0001, 'reg_lambda': 0.0001}\n",
      "16 1.0 1.0 1.0 1.0 1.0\n",
      "data_name: 18school\n",
      "(array([-1.,  1.]), array([68, 68]))\n",
      "best_hyper_parameters: {'max_depth': 2, 'min_child_weight': 0.2, 'reg_alpha': 0.0001, 'reg_lambda': 0.0001}\n",
      "17 0.8529411764705882 0.9056277056277057 0.8285714285714286 0.8787878787878788 0.8529411764705883\n",
      "data_name: 19ibs\n",
      "(array([-1.,  1.]), array([33, 33]))\n",
      "best_hyper_parameters: {'max_depth': 2, 'min_child_weight': 0.2, 'reg_alpha': 0.0001, 'reg_lambda': 0.0001}\n",
      "18 1.0 1.0 1.0 1.0 1.0\n",
      "data_name: 21survival\n",
      "(array([-1.,  1.]), array([123, 123]))\n",
      "best_hyper_parameters: {'max_depth': 2, 'min_child_weight': 0.5, 'reg_alpha': 0.001, 'reg_lambda': 0.1}\n",
      "19 0.8373983739837398 0.8875661375661377 0.8571428571428571 0.8 0.8275862068965518\n",
      "data_name: 29parkinson\n",
      "(array([-1.,  1.]), array([48, 48]))\n",
      "best_hyper_parameters: {'max_depth': 4, 'min_child_weight': 0.8, 'reg_alpha': 0.0001, 'reg_lambda': 0.1}\n",
      "20 0.8125 0.923076923076923 0.8148148148148148 0.8461538461538461 0.830188679245283\n",
      "data_name: 30paradox2\n",
      "(array([-1.,  1.]), array([52, 52]))\n",
      "best_hyper_parameters: {'max_depth': 2, 'min_child_weight': 0.2, 'reg_alpha': 0.0001, 'reg_lambda': 0.0001}\n",
      "21 1.0 1.0 1.0 1.0 1.0\n",
      "data_name: 31renal\n",
      "(array([-1.,  1.]), array([47, 47]))\n",
      "best_hyper_parameters: {'max_depth': 4, 'min_child_weight': 0.2, 'reg_alpha': 0.1, 'reg_lambda': 0.1}\n",
      "22 0.8723404255319149 0.9222222222222222 0.9565217391304348 0.8148148148148148 0.8800000000000001\n",
      "data_name: 33svr\n",
      "(array([-1.,  1.]), array([41, 41]))\n",
      "best_hyper_parameters: {'max_depth': 2, 'min_child_weight': 0.2, 'reg_alpha': 0.01, 'reg_lambda': 0.0001}\n",
      "23 0.975609756097561 1.0 0.9473684210526315 1.0 0.972972972972973\n",
      "data_name: 35pcos\n",
      "(array([-1.,  1.]), array([177, 177]))\n",
      "best_hyper_parameters: {'max_depth': 2, 'min_child_weight': 0.2, 'reg_alpha': 10.0, 'reg_lambda': 0.0001}\n",
      "24 0.8192090395480226 0.8502298263534218 0.868421052631579 0.75 0.8048780487804879\n",
      "data_name: 36probiotic\n",
      "(array([-1.,  1.]), array([10, 10]))\n",
      "best_hyper_parameters: {'max_depth': 2, 'min_child_weight': 0.2, 'reg_alpha': 0.0001, 'reg_lambda': 0.0001}\n",
      "25 1.0 1.0 1.0 1.0 1.0\n",
      "data_name: 101kidney\n",
      "(array([-1.,  1.]), array([149, 149]))\n",
      "best_hyper_parameters: {'max_depth': 4, 'min_child_weight': 0.2, 'reg_alpha': 0.1, 'reg_lambda': 0.01}\n",
      "26 0.9798657718120806 0.9996395097332372 0.9605263157894737 1.0 0.9798657718120806\n",
      "data_name: 102breast_cancer\n",
      "(array([-1.,  1.]), array([212, 212]))\n",
      "best_hyper_parameters: {'max_depth': 2, 'min_child_weight': 0.2, 'reg_alpha': 0.0001, 'reg_lambda': 1.0}\n",
      "27 0.9575471698113207 0.9940285204991086 0.9603960396039604 0.9509803921568627 0.9556650246305418\n",
      "data_name: 103diabetes_niddk\n",
      "(array([-1.,  1.]), array([267, 267]))\n",
      "best_hyper_parameters: {'max_depth': 8, 'min_child_weight': 0.2, 'reg_alpha': 0.01, 'reg_lambda': 0.01}\n",
      "28 0.7490636704119851 0.8014813152283695 0.768 0.7164179104477612 0.7413127413127413\n",
      "data_name: 104diabetic_retinopathy\n",
      "(array([-1.,  1.]), array([536, 536]))\n",
      "best_hyper_parameters: {'max_depth': 4, 'min_child_weight': 0.5, 'reg_alpha': 0.0001, 'reg_lambda': 0.001}\n",
      "29 0.6735074626865671 0.7297572544642857 0.6653061224489796 0.63671875 0.6506986027944112\n"
     ]
    }
   ],
   "source": [
    "n_data = len(data_list)\n",
    "roc_auc = np.zeros(n_data)   ; acc = np.zeros(n_data)\n",
    "precision = np.zeros(n_data) ; recall = np.zeros(n_data)\n",
    "f1_score = np.zeros(n_data)\n",
    "\n",
    "#data_id = 0\n",
    "for data_id in range(n_data):\n",
    "    X_train,X_test,y_train,y_test = read_data(data_id)\n",
    "    acc[data_id],roc_auc[data_id],precision[data_id],recall[data_id],f1_score[data_id] =\\\n",
    "           measure_performance(X_train,X_test,y_train,y_test)\n",
    "    print(data_id,acc[data_id],roc_auc[data_id],precision[data_id],recall[data_id],f1_score[data_id])    \n",
    "    "
   ]
  },
  {
   "cell_type": "code",
   "execution_count": 7,
   "metadata": {
    "scrolled": false
   },
   "outputs": [
    {
     "name": "stdout",
     "output_type": "stream",
     "text": [
      "acc_mean: 0.8495535486942711\n",
      "roc_mean: 0.883857625349843\n",
      "precision: 0.855791652446917\n",
      "recall: 0.8468876895453802\n",
      "f1_score: 0.849533111431746\n"
     ]
    }
   ],
   "source": [
    "print('acc_mean:',acc.mean())\n",
    "print('roc_mean:',roc_auc.mean())\n",
    "print('precision:',precision.mean())\n",
    "print('recall:',recall.mean())\n",
    "print('f1_score:',f1_score.mean())"
   ]
  },
  {
   "cell_type": "code",
   "execution_count": 8,
   "metadata": {},
   "outputs": [],
   "source": [
    "np.savetxt('result_XGB.dat',(roc_auc,acc,precision,recall,f1_score),fmt='%f')"
   ]
  },
  {
   "cell_type": "code",
   "execution_count": null,
   "metadata": {},
   "outputs": [],
   "source": []
  }
 ],
 "metadata": {
  "kernelspec": {
   "display_name": "Python 3",
   "language": "python",
   "name": "python3"
  },
  "language_info": {
   "codemirror_mode": {
    "name": "ipython",
    "version": 3
   },
   "file_extension": ".py",
   "mimetype": "text/x-python",
   "name": "python",
   "nbconvert_exporter": "python",
   "pygments_lexer": "ipython3",
   "version": "3.7.4"
  }
 },
 "nbformat": 4,
 "nbformat_minor": 2
}
