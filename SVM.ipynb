{
 "cells": [
  {
   "cell_type": "markdown",
   "metadata": {},
   "source": [
    "## Support Vector Machines (SVM)"
   ]
  },
  {
   "cell_type": "code",
   "execution_count": 1,
   "metadata": {},
   "outputs": [],
   "source": [
    "import numpy as np\n",
    "import pandas as pd\n",
    "\n",
    "from sklearn.model_selection import train_test_split,KFold\n",
    "from sklearn.utils import shuffle\n",
    "from sklearn.metrics import confusion_matrix,accuracy_score,precision_score,\\\n",
    "recall_score,roc_curve,auc\n",
    "\n",
    "#import expectation_reflection as ER\n",
    "#from sklearn.linear_model import LogisticRegression\n",
    "from sklearn.svm import SVC\n",
    "from sklearn.model_selection import GridSearchCV\n",
    "\n",
    "import matplotlib.pyplot as plt\n",
    "import seaborn as sns\n",
    "\n",
    "from sklearn.preprocessing import MinMaxScaler\n",
    "from function import split_train_test,make_data_balance"
   ]
  },
  {
   "cell_type": "code",
   "execution_count": 2,
   "metadata": {},
   "outputs": [],
   "source": [
    "np.random.seed(1)"
   ]
  },
  {
   "cell_type": "markdown",
   "metadata": {},
   "source": [
    "First of all, the processed data are imported."
   ]
  },
  {
   "cell_type": "code",
   "execution_count": 3,
   "metadata": {},
   "outputs": [
    {
     "name": "stdout",
     "output_type": "stream",
     "text": [
      "['1paradox' '2peptide' '3stigma' '4nki' '5mental' '6smoking' '7anemia'\n",
      " '8language' '9coag' '10tazamia' '11hepato' '12heat' '13ef' '14cervix'\n",
      " '15heart' '16liver' '17nwosu' '18school' '19ibs' '21survival'\n",
      " '29parkinson' '30paradox2' '31renal' '33svr' '35pcos' '36probiotic'\n",
      " '101kidney' '102breast_cancer' '103diabetes_niddk'\n",
      " '104diabetic_retinopathy']\n"
     ]
    }
   ],
   "source": [
    "#data_list = ['1paradox']\n",
    "#data_list = np.loadtxt('data_list.txt',dtype='str')\n",
    "data_list = np.loadtxt('data_list_30sets.txt',dtype='str')\n",
    "#data_list = ['9coag']\n",
    "\n",
    "print(data_list)"
   ]
  },
  {
   "cell_type": "code",
   "execution_count": 4,
   "metadata": {},
   "outputs": [],
   "source": [
    "def read_data(data_id):    \n",
    "    data_name = data_list[data_id]\n",
    "    print('data_name:',data_name)\n",
    "    Xy = np.loadtxt('../classification_data/%s/data_processed_median.dat'%data_name) \n",
    "    X = Xy[:,:-1]\n",
    "    y = Xy[:,-1]\n",
    "\n",
    "    #print(np.unique(y,return_counts=True))\n",
    "    X,y = make_data_balance(X,y)\n",
    "    print(np.unique(y,return_counts=True))\n",
    "\n",
    "    X, y = shuffle(X, y, random_state=1)\n",
    "    X_train,X_test,y_train,y_test = train_test_split(X,y,test_size=0.5,random_state = 1)\n",
    "    \n",
    "    sc = MinMaxScaler()\n",
    "    X_train = sc.fit_transform(X_train)\n",
    "    X_test = sc.transform(X_test)\n",
    "    \n",
    "    return X_train,X_test,y_train,y_test"
   ]
  },
  {
   "cell_type": "code",
   "execution_count": 5,
   "metadata": {},
   "outputs": [],
   "source": [
    "def measure_performance(X_train,X_test,y_train,y_test):\n",
    "    \n",
    "    #model = LogisticRegression(max_iter=100)\n",
    "    model = SVC(probability=True,tol=0.001)\n",
    "\n",
    "    #kernel\n",
    "    kernel = ['linear','poly','rbf','sigmoid']\n",
    "    \n",
    "    # regularization penalty space\n",
    "    C = [0.001,0.1,1.0,10.0,100.0]\n",
    "\n",
    "    # gamma\n",
    "    gamma = ['scale','auto']\n",
    "    \n",
    "    # Create hyperparameter options\n",
    "    #hyperparameters = dict(penalty=penalty,solver=solver,C=C,l1_ratio=l1_ratio)\n",
    "    hyper_parameters = dict(kernel=kernel,C=C,gamma=gamma)\n",
    "    \n",
    "    # Create grid search using cross validation\n",
    "    clf = GridSearchCV(model, hyper_parameters, cv=4, iid='deprecated')\n",
    "    \n",
    "    # Fit grid search\n",
    "    best_model = clf.fit(X_train, y_train)\n",
    "    \n",
    "    # View best hyperparameters\n",
    "    #print('Best Penalty:', best_model.best_estimator_.get_params()['penalty'])\n",
    "    #print('Best C:', best_model.best_estimator_.get_params()['C'])\n",
    "    #print('Best alpha:', best_model.best_estimator_.get_params()['alpha'])\n",
    "    #print('Best l1_ratio:', best_model.best_estimator_.get_params()['l1_ratio'])\n",
    "    \n",
    "    # best hyper parameters\n",
    "    print('best_hyper_parameters:',best_model.best_params_)\n",
    "\n",
    "    # performance:\n",
    "    y_test_pred = best_model.best_estimator_.predict(X_test)\n",
    "    acc = accuracy_score(y_test,y_test_pred)\n",
    "    #print('Accuracy:', acc)\n",
    "\n",
    "    p_test_pred = best_model.best_estimator_.predict_proba(X_test) # prob of [0,1]\n",
    "    p_test_pred = p_test_pred[:,1] # prob of 1    \n",
    "    fp,tp,thresholds = roc_curve(y_test, p_test_pred, drop_intermediate=False)\n",
    "    roc_auc = auc(fp,tp)\n",
    "    #print('AUC:', roc_auc)\n",
    "\n",
    "    precision = precision_score(y_test,y_test_pred)\n",
    "    #print('Precision:',precision)\n",
    "\n",
    "    recall = recall_score(y_test,y_test_pred)\n",
    "    #print('Recall:',recall)\n",
    "    \n",
    "    f1_score = 2*precision*recall/(precision+recall)\n",
    "\n",
    "    return acc,roc_auc,precision,recall,f1_score"
   ]
  },
  {
   "cell_type": "code",
   "execution_count": 6,
   "metadata": {},
   "outputs": [
    {
     "name": "stdout",
     "output_type": "stream",
     "text": [
      "data_name: 1paradox\n",
      "(array([-1.,  1.]), array([60, 60]))\n",
      "best_hyper_parameters: {'C': 10.0, 'gamma': 'scale', 'kernel': 'rbf'}\n",
      "0 0.8 0.8695652173913043 0.6774193548387096 0.9130434782608695 0.7777777777777777\n",
      "data_name: 2peptide\n",
      "(array([-1.,  1.]), array([23, 23]))\n",
      "best_hyper_parameters: {'C': 1.0, 'gamma': 'scale', 'kernel': 'sigmoid'}\n",
      "1 0.9130434782608695 0.9545454545454545 0.8571428571428571 1.0 0.923076923076923\n",
      "data_name: 3stigma\n",
      "(array([-1.,  1.]), array([2725, 2725]))\n",
      "best_hyper_parameters: {'C': 10.0, 'gamma': 'scale', 'kernel': 'linear'}\n",
      "2 1.0 1.0 1.0 1.0 1.0\n",
      "data_name: 4nki\n",
      "(array([-1.,  1.]), array([77, 77]))\n",
      "best_hyper_parameters: {'C': 100.0, 'gamma': 'auto', 'kernel': 'poly'}\n",
      "3 0.7402597402597403 0.8340080971659919 0.6875 0.868421052631579 0.7674418604651162\n",
      "data_name: 5mental\n",
      "(array([-1.,  1.]), array([147, 147]))\n",
      "best_hyper_parameters: {'C': 1.0, 'gamma': 'auto', 'kernel': 'rbf'}\n",
      "4 0.6258503401360545 0.7088126159554731 0.5714285714285714 0.8571428571428571 0.6857142857142857\n",
      "data_name: 6smoking\n",
      "(array([-1.,  1.]), array([722, 722]))\n",
      "best_hyper_parameters: {'C': 0.1, 'gamma': 'scale', 'kernel': 'linear'}\n",
      "5 1.0 1.0 1.0 1.0 1.0\n",
      "data_name: 7anemia\n",
      "(array([-1.,  1.]), array([43, 43]))\n",
      "best_hyper_parameters: {'C': 100.0, 'gamma': 'auto', 'kernel': 'poly'}\n",
      "6 0.7209302325581395 0.7982456140350878 0.64 0.8421052631578947 0.7272727272727272\n",
      "data_name: 8language\n",
      "(array([-1.,  1.]), array([267, 267]))\n",
      "best_hyper_parameters: {'C': 10.0, 'gamma': 'scale', 'kernel': 'rbf'}\n",
      "7 0.7415730337078652 0.831163730221075 0.7388059701492538 0.7443609022556391 0.7415730337078651\n",
      "data_name: 9coag\n",
      "(array([-1.,  1.]), array([504, 504]))\n",
      "best_hyper_parameters: {'C': 100.0, 'gamma': 'auto', 'kernel': 'poly'}\n",
      "8 0.5952380952380952 0.6616153602031102 0.5436241610738255 0.7043478260869566 0.6136363636363635\n",
      "data_name: 10tazamia\n",
      "(array([-1.,  1.]), array([124, 124]))\n",
      "best_hyper_parameters: {'C': 0.1, 'gamma': 'scale', 'kernel': 'linear'}\n",
      "9 0.7096774193548387 0.8289439374185137 1.0 0.4461538461538462 0.6170212765957447\n",
      "data_name: 11hepato\n",
      "(array([-1.,  1.]), array([63, 63]))\n",
      "best_hyper_parameters: {'C': 1.0, 'gamma': 'scale', 'kernel': 'rbf'}\n",
      "10 0.7142857142857143 0.6888888888888889 0.7777777777777778 0.6363636363636364 0.7000000000000001\n",
      "data_name: 12heat\n",
      "(array([-1.,  1.]), array([83, 83]))\n",
      "best_hyper_parameters: {'C': 100.0, 'gamma': 'auto', 'kernel': 'poly'}\n",
      "11 0.5783132530120482 0.6713124274099884 0.6071428571428571 0.4146341463414634 0.49275362318840576\n",
      "data_name: 13ef\n",
      "(array([-1.,  1.]), array([93, 93]))\n",
      "best_hyper_parameters: {'C': 0.1, 'gamma': 'scale', 'kernel': 'linear'}\n",
      "12 0.989247311827957 0.9791666666666664 1.0 0.9791666666666666 0.9894736842105264\n",
      "data_name: 14cervix\n",
      "(array([-1.,  1.]), array([24, 24]))\n",
      "best_hyper_parameters: {'C': 1.0, 'gamma': 'scale', 'kernel': 'linear'}\n",
      "13 0.9583333333333334 1.0 1.0 0.9166666666666666 0.9565217391304348\n",
      "data_name: 15heart\n",
      "(array([-1.,  1.]), array([138, 138]))\n",
      "best_hyper_parameters: {'C': 1.0, 'gamma': 'auto', 'kernel': 'rbf'}\n",
      "14 0.8115942028985508 0.8969312169312169 0.8024691358024691 0.8666666666666667 0.8333333333333334\n",
      "data_name: 16liver\n",
      "(array([-1.,  1.]), array([167, 167]))\n",
      "best_hyper_parameters: {'C': 100.0, 'gamma': 'scale', 'kernel': 'linear'}\n",
      "15 0.7425149700598802 0.7724662647143268 0.680672268907563 0.9418604651162791 0.7902439024390243\n",
      "data_name: 17nwosu\n",
      "(array([-1.,  1.]), array([59, 59]))\n",
      "best_hyper_parameters: {'C': 0.1, 'gamma': 'scale', 'kernel': 'linear'}\n",
      "16 0.9830508474576272 0.9988505747126437 1.0 0.9666666666666667 0.983050847457627\n",
      "data_name: 18school\n",
      "(array([-1.,  1.]), array([68, 68]))\n",
      "best_hyper_parameters: {'C': 0.1, 'gamma': 'scale', 'kernel': 'linear'}\n",
      "17 0.8676470588235294 0.9276373147340888 0.8666666666666667 0.8387096774193549 0.8524590163934426\n",
      "data_name: 19ibs\n",
      "(array([-1.,  1.]), array([33, 33]))\n",
      "best_hyper_parameters: {'C': 10.0, 'gamma': 'auto', 'kernel': 'rbf'}\n",
      "18 0.696969696969697 0.9210526315789473 0.5833333333333334 1.0 0.7368421052631579\n",
      "data_name: 21survival\n",
      "(array([-1.,  1.]), array([123, 123]))\n",
      "best_hyper_parameters: {'C': 0.1, 'gamma': 'scale', 'kernel': 'poly'}\n",
      "19 0.6829268292682927 0.7493389740877843 0.7169811320754716 0.6129032258064516 0.6608695652173913\n",
      "data_name: 29parkinson\n",
      "(array([-1.,  1.]), array([48, 48]))\n",
      "best_hyper_parameters: {'C': 10.0, 'gamma': 'scale', 'kernel': 'linear'}\n",
      "20 0.7916666666666666 0.9027777777777779 0.9375 0.625 0.75\n",
      "data_name: 30paradox2\n",
      "(array([-1.,  1.]), array([52, 52]))\n",
      "best_hyper_parameters: {'C': 100.0, 'gamma': 'auto', 'kernel': 'sigmoid'}\n",
      "21 0.8846153846153846 0.9475262368815592 1.0 0.7931034482758621 0.8846153846153846\n",
      "data_name: 31renal\n",
      "(array([-1.,  1.]), array([47, 47]))\n",
      "best_hyper_parameters: {'C': 0.1, 'gamma': 'scale', 'kernel': 'linear'}\n",
      "22 0.8085106382978723 0.8974358974358975 0.875 0.6666666666666666 0.7567567567567567\n",
      "data_name: 33svr\n",
      "(array([-1.,  1.]), array([41, 41]))\n",
      "best_hyper_parameters: {'C': 0.1, 'gamma': 'scale', 'kernel': 'linear'}\n",
      "23 1.0 1.0 1.0 1.0 1.0\n",
      "data_name: 35pcos\n",
      "(array([-1.,  1.]), array([177, 177]))\n",
      "best_hyper_parameters: {'C': 10.0, 'gamma': 'scale', 'kernel': 'rbf'}\n",
      "24 0.8305084745762712 0.9228110599078343 0.7872340425531915 0.8809523809523809 0.8314606741573034\n",
      "data_name: 36probiotic\n",
      "(array([-1.,  1.]), array([10, 10]))\n",
      "best_hyper_parameters: {'C': 0.1, 'gamma': 'scale', 'kernel': 'poly'}\n",
      "25 0.8 0.92 0.8 0.8 0.8000000000000002\n",
      "data_name: 101kidney\n",
      "(array([-1.,  1.]), array([149, 149]))\n",
      "best_hyper_parameters: {'C': 0.1, 'gamma': 'scale', 'kernel': 'poly'}\n",
      "26 0.9731543624161074 1.0 0.9506172839506173 1.0 0.9746835443037974\n",
      "data_name: 102breast_cancer\n",
      "(array([-1.,  1.]), array([212, 212]))\n",
      "best_hyper_parameters: {'C': 1.0, 'gamma': 'scale', 'kernel': 'rbf'}\n",
      "27 0.9575471698113207 0.9961562527934209 0.956140350877193 0.9646017699115044 0.9603524229074888\n",
      "data_name: 103diabetes_niddk\n",
      "(array([-1.,  1.]), array([267, 267]))\n",
      "best_hyper_parameters: {'C': 1.0, 'gamma': 'auto', 'kernel': 'sigmoid'}\n",
      "28 0.7191011235955056 0.7940747390865224 0.7251908396946565 0.7089552238805971 0.7169811320754716\n",
      "data_name: 104diabetic_retinopathy\n",
      "(array([-1.,  1.]), array([536, 536]))\n",
      "best_hyper_parameters: {'C': 100.0, 'gamma': 'scale', 'kernel': 'poly'}\n",
      "29 0.7388059701492538 0.8021980322378062 0.7949790794979079 0.6761565836298933 0.7307692307692308\n"
     ]
    }
   ],
   "source": [
    "n_data = len(data_list)\n",
    "roc_auc = np.zeros(n_data)   ; acc = np.zeros(n_data)\n",
    "precision = np.zeros(n_data) ; recall = np.zeros(n_data)\n",
    "f1_score = np.zeros(n_data)\n",
    "\n",
    "#data_id = 0\n",
    "for data_id in range(n_data):\n",
    "    X_train,X_test,y_train,y_test = read_data(data_id)\n",
    "    acc[data_id],roc_auc[data_id],precision[data_id],recall[data_id],f1_score[data_id] =\\\n",
    "           measure_performance(X_train,X_test,y_train,y_test)\n",
    "    print(data_id,acc[data_id],roc_auc[data_id],precision[data_id],recall[data_id],f1_score[data_id])    \n",
    "    "
   ]
  },
  {
   "cell_type": "code",
   "execution_count": 7,
   "metadata": {
    "scrolled": false
   },
   "outputs": [
    {
     "name": "stdout",
     "output_type": "stream",
     "text": [
      "acc_mean: 0.8125121782526872\n",
      "roc_mean: 0.8758508327593792\n",
      "precision: 0.8192541894304306\n",
      "recall: 0.8221549705573465\n",
      "f1_score: 0.8084893736821859\n"
     ]
    }
   ],
   "source": [
    "print('acc_mean:',acc.mean())\n",
    "print('roc_mean:',roc_auc.mean())\n",
    "print('precision:',precision.mean())\n",
    "print('recall:',recall.mean())\n",
    "print('f1_score:',f1_score.mean())"
   ]
  },
  {
   "cell_type": "code",
   "execution_count": 9,
   "metadata": {},
   "outputs": [],
   "source": [
    "np.savetxt('result_SVM_median.dat',(roc_auc,acc,precision,recall,f1_score),fmt='%f')"
   ]
  },
  {
   "cell_type": "code",
   "execution_count": null,
   "metadata": {},
   "outputs": [],
   "source": []
  }
 ],
 "metadata": {
  "kernelspec": {
   "display_name": "Python 3",
   "language": "python",
   "name": "python3"
  },
  "language_info": {
   "codemirror_mode": {
    "name": "ipython",
    "version": 3
   },
   "file_extension": ".py",
   "mimetype": "text/x-python",
   "name": "python",
   "nbconvert_exporter": "python",
   "pygments_lexer": "ipython3",
   "version": "3.7.4"
  }
 },
 "nbformat": 4,
 "nbformat_minor": 2
}
