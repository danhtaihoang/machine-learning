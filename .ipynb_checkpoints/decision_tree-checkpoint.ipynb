{
 "cells": [
  {
   "cell_type": "code",
   "execution_count": 11,
   "metadata": {
    "collapsed": true
   },
   "outputs": [],
   "source": [
    "import numpy as np\n",
    "import pandas as pd\n",
    "from sklearn import tree\n",
    "from sklearn.preprocessing import LabelEncoder"
   ]
  },
  {
   "cell_type": "code",
   "execution_count": 12,
   "metadata": {
    "collapsed": false
   },
   "outputs": [],
   "source": [
    "s = pd.read_csv('weather_play.csv')"
   ]
  },
  {
   "cell_type": "code",
   "execution_count": 13,
   "metadata": {
    "collapsed": false,
    "scrolled": false
   },
   "outputs": [
    {
     "name": "stdout",
     "output_type": "stream",
     "text": [
      "    Day   Outlook Humidity    Wind Play\n",
      "0     1     Sunny     High    Weak   No\n",
      "1     2     Sunny     High  Strong   No\n",
      "2     3  Overcast     High    Weak  Yes\n",
      "3     4      Rain     High    Weak  Yes\n",
      "4     5      Rain   Normal    Weak  Yes\n",
      "5     6      Rain   Normal  Strong   No\n",
      "6     7  Overcast   Normal  Strong  Yes\n",
      "7     8     Sunny     High    Weak   No\n",
      "8     9     Sunny   Normal    Weak  Yes\n",
      "9    10      Rain   Normal    Weak  Yes\n",
      "10   11     Sunny   Normal  Strong  Yes\n",
      "11   12  Overcast     High  Strong  Yes\n",
      "12   13  Overcast   Normal    Weak  Yes\n",
      "13   14      Rain     High  Strong   No\n"
     ]
    }
   ],
   "source": [
    "print(s)"
   ]
  },
  {
   "cell_type": "code",
   "execution_count": 17,
   "metadata": {
    "collapsed": false,
    "scrolled": true
   },
   "outputs": [
    {
     "name": "stdout",
     "output_type": "stream",
     "text": [
      "[['Sunny' 'High' 'Weak' 'No']\n",
      " ['Sunny' 'High' 'Strong' 'No']\n",
      " ['Overcast' 'High' 'Weak' 'Yes']\n",
      " ['Rain' 'High' 'Weak' 'Yes']\n",
      " ['Rain' 'Normal' 'Weak' 'Yes']\n",
      " ['Rain' 'Normal' 'Strong' 'No']\n",
      " ['Overcast' 'Normal' 'Strong' 'Yes']\n",
      " ['Sunny' 'High' 'Weak' 'No']\n",
      " ['Sunny' 'Normal' 'Weak' 'Yes']\n",
      " ['Rain' 'Normal' 'Weak' 'Yes']\n",
      " ['Sunny' 'Normal' 'Strong' 'Yes']\n",
      " ['Overcast' 'High' 'Strong' 'Yes']\n",
      " ['Overcast' 'Normal' 'Weak' 'Yes']\n",
      " ['Rain' 'High' 'Strong' 'No']]\n"
     ]
    }
   ],
   "source": [
    "# convert to numpy array\n",
    "s = np.array(s[:,1:])\n",
    "print(s)"
   ]
  },
  {
   "cell_type": "code",
   "execution_count": 20,
   "metadata": {
    "collapsed": false,
    "scrolled": false
   },
   "outputs": [
    {
     "name": "stdout",
     "output_type": "stream",
     "text": [
      "[[2 0 1 0]\n",
      " [2 0 0 0]\n",
      " [0 0 1 1]\n",
      " [1 0 1 1]\n",
      " [1 1 1 1]\n",
      " [1 1 0 0]\n",
      " [0 1 0 1]\n",
      " [2 0 1 0]\n",
      " [2 1 1 1]\n",
      " [1 1 1 1]\n",
      " [2 1 0 1]\n",
      " [0 0 0 1]\n",
      " [0 1 1 1]\n",
      " [1 0 0 0]]\n"
     ]
    }
   ],
   "source": [
    "# integer encode\n",
    "label_encoder = LabelEncoder()\n",
    "s_int = np.array([label_encoder.fit_transform(s[:,i]) for i in range(s.shape[1])]).T\n",
    "print(s_int)"
   ]
  },
  {
   "cell_type": "code",
   "execution_count": 21,
   "metadata": {
    "collapsed": false
   },
   "outputs": [
    {
     "name": "stdout",
     "output_type": "stream",
     "text": [
      "DecisionTreeClassifier(class_weight=None, criterion='gini', max_depth=None,\n",
      "            max_features=None, max_leaf_nodes=None,\n",
      "            min_impurity_split=1e-07, min_samples_leaf=1,\n",
      "            min_samples_split=2, min_weight_fraction_leaf=0.0,\n",
      "            presort=False, random_state=None, splitter='best')\n"
     ]
    }
   ],
   "source": [
    "# Build model \n",
    "model = tree.DecisionTreeClassifier(criterion='gini')\n",
    "print(model)"
   ]
  },
  {
   "cell_type": "code",
   "execution_count": 24,
   "metadata": {
    "collapsed": false
   },
   "outputs": [
    {
     "data": {
      "text/plain": [
       "DecisionTreeClassifier(class_weight=None, criterion='gini', max_depth=None,\n",
       "            max_features=None, max_leaf_nodes=None,\n",
       "            min_impurity_split=1e-07, min_samples_leaf=1,\n",
       "            min_samples_split=2, min_weight_fraction_leaf=0.0,\n",
       "            presort=False, random_state=None, splitter='best')"
      ]
     },
     "execution_count": 24,
     "metadata": {},
     "output_type": "execute_result"
    }
   ],
   "source": [
    "# fit\n",
    "x = s_int[:,:3]\n",
    "y = s_int[:,3]\n",
    "\n",
    "model.fit(x,y)"
   ]
  },
  {
   "cell_type": "code",
   "execution_count": 25,
   "metadata": {
    "collapsed": false
   },
   "outputs": [
    {
     "data": {
      "text/plain": [
       "1.0"
      ]
     },
     "execution_count": 25,
     "metadata": {},
     "output_type": "execute_result"
    }
   ],
   "source": [
    "# score\n",
    "model.score(x, y)"
   ]
  },
  {
   "cell_type": "code",
   "execution_count": null,
   "metadata": {
    "collapsed": true
   },
   "outputs": [],
   "source": [
    "x_test = []"
   ]
  },
  {
   "cell_type": "code",
   "execution_count": null,
   "metadata": {
    "collapsed": true
   },
   "outputs": [],
   "source": [
    "#Predict Output\n",
    "#predicted= model.predict(x_test)"
   ]
  }
 ],
 "metadata": {
  "kernelspec": {
   "display_name": "Python 2",
   "language": "python",
   "name": "python2"
  },
  "language_info": {
   "codemirror_mode": {
    "name": "ipython",
    "version": 2
   },
   "file_extension": ".py",
   "mimetype": "text/x-python",
   "name": "python",
   "nbconvert_exporter": "python",
   "pygments_lexer": "ipython2",
   "version": "2.7.15"
  }
 },
 "nbformat": 4,
 "nbformat_minor": 2
}
