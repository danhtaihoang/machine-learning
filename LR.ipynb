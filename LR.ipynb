{
 "cells": [
  {
   "cell_type": "markdown",
   "metadata": {},
   "source": [
    "## Logistic Regression"
   ]
  },
  {
   "cell_type": "code",
   "execution_count": 1,
   "metadata": {},
   "outputs": [],
   "source": [
    "import numpy as np\n",
    "import pandas as pd\n",
    "\n",
    "from sklearn.model_selection import train_test_split,KFold\n",
    "from sklearn.utils import shuffle\n",
    "from sklearn.metrics import confusion_matrix,accuracy_score,precision_score,\\\n",
    "recall_score,roc_curve,auc\n",
    "\n",
    "import expectation_reflection as ER\n",
    "from sklearn.linear_model import LogisticRegression\n",
    "from sklearn.linear_model import SGDClassifier\n",
    "from sklearn.model_selection import GridSearchCV\n",
    "\n",
    "import matplotlib.pyplot as plt\n",
    "import seaborn as sns\n",
    "\n",
    "from sklearn.preprocessing import MinMaxScaler\n",
    "from function import split_train_test,make_data_balance"
   ]
  },
  {
   "cell_type": "code",
   "execution_count": 2,
   "metadata": {},
   "outputs": [],
   "source": [
    "np.random.seed(1)"
   ]
  },
  {
   "cell_type": "markdown",
   "metadata": {},
   "source": [
    "First of all, the processed data are imported."
   ]
  },
  {
   "cell_type": "code",
   "execution_count": 3,
   "metadata": {},
   "outputs": [
    {
     "name": "stdout",
     "output_type": "stream",
     "text": [
      "['1paradox' '2peptide' '3stigma' '4nki' '5mental' '6smoking' '7anemia'\n",
      " '8language' '9coag' '10tazamia' '11hepato' '12heat' '13ef' '14cervix'\n",
      " '15heart' '16liver' '17nwosu' '18school' '19ibs' '21survival'\n",
      " '29parkinson' '30paradox2' '31renal' '33svr' '35pcos' '36probiotic'\n",
      " '101kidney' '102breast_cancer' '103diabetes_niddk'\n",
      " '104diabetic_retinopathy']\n"
     ]
    }
   ],
   "source": [
    "#data_list = ['1paradox','2peptide','3stigma']\n",
    "#data_list = np.loadtxt('data_list.txt',dtype='str')\n",
    "data_list = np.loadtxt('data_list_30sets.txt',dtype='str')\n",
    "#data_list = ['9coag']\n",
    "\n",
    "print(data_list)"
   ]
  },
  {
   "cell_type": "code",
   "execution_count": 4,
   "metadata": {},
   "outputs": [],
   "source": [
    "def read_data(data_id):    \n",
    "    data_name = data_list[data_id]\n",
    "    print('data_name:',data_name)\n",
    "    Xy = np.loadtxt('../classification_data/%s/data_processed_median.dat'%data_name) \n",
    "    X = Xy[:,:-1]\n",
    "    y = Xy[:,-1]\n",
    "\n",
    "    #print(np.unique(y,return_counts=True))\n",
    "    X,y = make_data_balance(X,y)\n",
    "    print(np.unique(y,return_counts=True))\n",
    "\n",
    "    X, y = shuffle(X, y, random_state=1)\n",
    "    X_train,X_test,y_train,y_test = train_test_split(X,y,test_size=0.5,random_state = 1)\n",
    "    \n",
    "    sc = MinMaxScaler()\n",
    "    X_train = sc.fit_transform(X_train)\n",
    "    X_test = sc.transform(X_test)\n",
    "    \n",
    "    return X_train,X_test,y_train,y_test"
   ]
  },
  {
   "cell_type": "code",
   "execution_count": 5,
   "metadata": {},
   "outputs": [],
   "source": [
    "def measure_performance(X_train,X_test,y_train,y_test):\n",
    "    \n",
    "    #model = LogisticRegression(max_iter=100)\n",
    "    model = SGDClassifier(loss='log',max_iter=1000,tol=0.001)  # 'log' for logistic regression, 'hinge' for SVM\n",
    "\n",
    "    # regularization penalty space\n",
    "    #penalty = ['l1','l2']\n",
    "    penalty = ['elasticnet']\n",
    "\n",
    "    # solver\n",
    "    #solver=['saga']\n",
    "    #solver=['liblinear']\n",
    "\n",
    "    # regularization hyperparameter space\n",
    "    #C = np.logspace(0, 4, 10)\n",
    "    #C = [0.001,0.1,1.0,10.0,100.0]\n",
    "    alpha = [0.001,0.01,0.1,1.0,10.,100.]\n",
    "\n",
    "    # l1_ratio\n",
    "    #l1_ratio = [0.1,0.5,0.9]\n",
    "    l1_ratio = [0.,0.2,0.4,0.6,0.8,1.0]\n",
    "\n",
    "    # Create hyperparameter options\n",
    "    #hyperparameters = dict(penalty=penalty,solver=solver,C=C,l1_ratio=l1_ratio)\n",
    "    #hyper_parameters = dict(penalty=penalty,solver=solver,C=C)\n",
    "    hyper_parameters = dict(penalty=penalty,alpha=alpha,l1_ratio=l1_ratio)\n",
    "    \n",
    "    # Create grid search using cross validation\n",
    "    clf = GridSearchCV(model, hyper_parameters, cv=4, iid='deprecated')\n",
    "    \n",
    "    # Fit grid search\n",
    "    best_model = clf.fit(X_train, y_train)\n",
    "    \n",
    "    # View best hyperparameters\n",
    "    #print('Best Penalty:', best_model.best_estimator_.get_params()['penalty'])\n",
    "    #print('Best C:', best_model.best_estimator_.get_params()['C'])\n",
    "    #print('Best alpha:', best_model.best_estimator_.get_params()['alpha'])\n",
    "    #print('Best l1_ratio:', best_model.best_estimator_.get_params()['l1_ratio'])\n",
    "    \n",
    "    # best hyper parameters\n",
    "    print('best_hyper_parameters:',best_model.best_params_)\n",
    "\n",
    "    # performance:\n",
    "    y_test_pred = best_model.best_estimator_.predict(X_test)\n",
    "    acc = accuracy_score(y_test,y_test_pred)\n",
    "    #print('Accuracy:', acc)\n",
    "\n",
    "    p_test_pred = best_model.best_estimator_.predict_proba(X_test) # prob of [0,1]\n",
    "    p_test_pred = p_test_pred[:,1] # prob of 1    \n",
    "    fp,tp,thresholds = roc_curve(y_test, p_test_pred, drop_intermediate=False)\n",
    "    roc_auc = auc(fp,tp)\n",
    "    #print('AUC:', roc_auc)\n",
    "\n",
    "    precision = precision_score(y_test,y_test_pred)\n",
    "    #print('Precision:',precision)\n",
    "\n",
    "    recall = recall_score(y_test,y_test_pred)\n",
    "    #print('Recall:',recall)\n",
    "    \n",
    "    f1_score = 2*precision*recall/(precision+recall)\n",
    "\n",
    "    return acc,roc_auc,precision,recall,f1_score"
   ]
  },
  {
   "cell_type": "code",
   "execution_count": 6,
   "metadata": {},
   "outputs": [
    {
     "name": "stdout",
     "output_type": "stream",
     "text": [
      "data_name: 1paradox\n",
      "(array([-1.,  1.]), array([60, 60]))\n",
      "best_hyper_parameters: {'alpha': 0.001, 'l1_ratio': 0.8, 'penalty': 'elasticnet'}\n",
      "0 0.7833333333333333 0.8801410105757932 0.6666666666666666 0.8695652173913043 0.7547169811320754\n",
      "data_name: 2peptide\n",
      "(array([-1.,  1.]), array([23, 23]))\n",
      "best_hyper_parameters: {'alpha': 0.001, 'l1_ratio': 0.8, 'penalty': 'elasticnet'}\n",
      "1 0.9565217391304348 1.0 1.0 0.9166666666666666 0.9565217391304348\n",
      "data_name: 3stigma\n",
      "(array([-1.,  1.]), array([2725, 2725]))\n",
      "best_hyper_parameters: {'alpha': 0.001, 'l1_ratio': 0.2, 'penalty': 'elasticnet'}\n",
      "2 0.996697247706422 0.9999859864715552 1.0 0.9932330827067669 0.9966050546963411\n",
      "data_name: 4nki\n",
      "(array([-1.,  1.]), array([77, 77]))\n",
      "best_hyper_parameters: {'alpha': 0.1, 'l1_ratio': 0.2, 'penalty': 'elasticnet'}\n",
      "3 0.7142857142857143 0.8418918918918918 0.6829268292682927 0.7567567567567568 0.7179487179487181\n",
      "data_name: 5mental\n",
      "(array([-1.,  1.]), array([147, 147]))\n",
      "best_hyper_parameters: {'alpha': 1.0, 'l1_ratio': 0.0, 'penalty': 'elasticnet'}\n",
      "4 0.6598639455782312 0.6890289103039289 0.6521739130434783 0.6338028169014085 0.6428571428571428\n",
      "data_name: 6smoking\n",
      "(array([-1.,  1.]), array([722, 722]))\n",
      "best_hyper_parameters: {'alpha': 0.001, 'l1_ratio': 0.0, 'penalty': 'elasticnet'}\n",
      "5 1.0 1.0 1.0 1.0 1.0\n",
      "data_name: 7anemia\n",
      "(array([-1.,  1.]), array([43, 43]))\n",
      "best_hyper_parameters: {'alpha': 0.01, 'l1_ratio': 0.2, 'penalty': 'elasticnet'}\n",
      "6 0.8372093023255814 0.8826086956521738 0.8095238095238095 0.85 0.8292682926829269\n",
      "data_name: 8language\n",
      "(array([-1.,  1.]), array([267, 267]))\n",
      "best_hyper_parameters: {'alpha': 0.01, 'l1_ratio': 0.4, 'penalty': 'elasticnet'}\n",
      "7 0.7378277153558053 0.8552912131073953 0.8478260869565217 0.582089552238806 0.6902654867256638\n",
      "data_name: 9coag\n",
      "(array([-1.,  1.]), array([504, 504]))\n",
      "best_hyper_parameters: {'alpha': 0.1, 'l1_ratio': 0.0, 'penalty': 'elasticnet'}\n",
      "8 0.6170634920634921 0.6700321320564515 0.5992779783393501 0.6693548387096774 0.6323809523809524\n",
      "data_name: 10tazamia\n",
      "(array([-1.,  1.]), array([124, 124]))\n",
      "best_hyper_parameters: {'alpha': 0.001, 'l1_ratio': 0.2, 'penalty': 'elasticnet'}\n",
      "9 0.7338709677419355 0.8323337679269883 0.7222222222222222 0.8 0.759124087591241\n",
      "data_name: 11hepato\n",
      "(array([-1.,  1.]), array([63, 63]))\n",
      "best_hyper_parameters: {'alpha': 0.01, 'l1_ratio': 0.2, 'penalty': 'elasticnet'}\n",
      "10 0.6666666666666666 0.7227822580645162 0.631578947368421 0.7741935483870968 0.6956521739130435\n",
      "data_name: 12heat\n",
      "(array([-1.,  1.]), array([83, 83]))\n",
      "best_hyper_parameters: {'alpha': 0.1, 'l1_ratio': 0.0, 'penalty': 'elasticnet'}\n",
      "11 0.7349397590361446 0.7538011695906432 0.7674418604651163 0.7333333333333333 0.7499999999999999\n",
      "data_name: 13ef\n",
      "(array([-1.,  1.]), array([93, 93]))\n",
      "best_hyper_parameters: {'alpha': 0.001, 'l1_ratio': 0.6, 'penalty': 'elasticnet'}\n",
      "12 1.0 1.0 1.0 1.0 1.0\n",
      "data_name: 14cervix\n",
      "(array([-1.,  1.]), array([24, 24]))\n",
      "best_hyper_parameters: {'alpha': 0.001, 'l1_ratio': 0.0, 'penalty': 'elasticnet'}\n",
      "13 0.9583333333333334 1.0 1.0 0.9333333333333333 0.9655172413793104\n",
      "data_name: 15heart\n",
      "(array([-1.,  1.]), array([138, 138]))\n",
      "best_hyper_parameters: {'alpha': 0.1, 'l1_ratio': 0.8, 'penalty': 'elasticnet'}\n",
      "14 0.7681159420289855 0.8691934121621623 0.8620689655172413 0.6756756756756757 0.7575757575757576\n",
      "data_name: 16liver\n",
      "(array([-1.,  1.]), array([167, 167]))\n",
      "best_hyper_parameters: {'alpha': 0.001, 'l1_ratio': 0.6, 'penalty': 'elasticnet'}\n",
      "15 0.6407185628742516 0.6836206896551724 0.5957446808510638 0.9655172413793104 0.7368421052631579\n",
      "data_name: 17nwosu\n",
      "(array([-1.,  1.]), array([59, 59]))\n",
      "best_hyper_parameters: {'alpha': 0.001, 'l1_ratio': 0.0, 'penalty': 'elasticnet'}\n",
      "16 0.9830508474576272 0.9965034965034966 0.9629629629629629 1.0 0.9811320754716981\n",
      "data_name: 18school\n",
      "(array([-1.,  1.]), array([68, 68]))\n",
      "best_hyper_parameters: {'alpha': 0.001, 'l1_ratio': 0.2, 'penalty': 'elasticnet'}\n",
      "17 0.8088235294117647 0.8576388888888888 0.8275862068965517 0.75 0.7868852459016394\n",
      "data_name: 19ibs\n",
      "(array([-1.,  1.]), array([33, 33]))\n",
      "best_hyper_parameters: {'alpha': 0.001, 'l1_ratio': 0.2, 'penalty': 'elasticnet'}\n",
      "18 0.9090909090909091 0.962962962962963 0.8947368421052632 0.9444444444444444 0.918918918918919\n",
      "data_name: 21survival\n",
      "(array([-1.,  1.]), array([123, 123]))\n",
      "best_hyper_parameters: {'alpha': 0.01, 'l1_ratio': 1.0, 'penalty': 'elasticnet'}\n",
      "19 0.7154471544715447 0.8513227513227513 0.6811594202898551 0.7833333333333333 0.7286821705426356\n",
      "data_name: 29parkinson\n",
      "(array([-1.,  1.]), array([48, 48]))\n",
      "best_hyper_parameters: {'alpha': 0.001, 'l1_ratio': 0.8, 'penalty': 'elasticnet'}\n",
      "20 0.75 0.8536155202821869 0.6666666666666666 0.8571428571428571 0.75\n",
      "data_name: 30paradox2\n",
      "(array([-1.,  1.]), array([52, 52]))\n",
      "best_hyper_parameters: {'alpha': 0.01, 'l1_ratio': 0.8, 'penalty': 'elasticnet'}\n",
      "21 0.9807692307692307 0.974702380952381 1.0 0.9583333333333334 0.9787234042553191\n",
      "data_name: 31renal\n",
      "(array([-1.,  1.]), array([47, 47]))\n",
      "best_hyper_parameters: {'alpha': 1.0, 'l1_ratio': 0.0, 'penalty': 'elasticnet'}\n",
      "22 0.851063829787234 0.9293478260869565 0.8076923076923077 0.9130434782608695 0.8571428571428572\n",
      "data_name: 33svr\n",
      "(array([-1.,  1.]), array([41, 41]))\n",
      "best_hyper_parameters: {'alpha': 0.001, 'l1_ratio': 0.6, 'penalty': 'elasticnet'}\n",
      "23 0.975609756097561 0.9832535885167465 1.0 0.9473684210526315 0.972972972972973\n",
      "data_name: 35pcos\n",
      "(array([-1.,  1.]), array([177, 177]))\n",
      "best_hyper_parameters: {'alpha': 0.01, 'l1_ratio': 0.6, 'penalty': 'elasticnet'}\n",
      "24 0.8813559322033898 0.9692288049029623 0.8526315789473684 0.9204545454545454 0.8852459016393441\n",
      "data_name: 36probiotic\n",
      "(array([-1.,  1.]), array([10, 10]))\n"
     ]
    },
    {
     "name": "stderr",
     "output_type": "stream",
     "text": [
      "/Users/u1094325/anaconda3/lib/python3.7/site-packages/sklearn/model_selection/_split.py:672: UserWarning: The least populated class in y has only 3 members, which is less than n_splits=4.\n",
      "  % (min_groups, self.n_splits)), UserWarning)\n"
     ]
    },
    {
     "name": "stdout",
     "output_type": "stream",
     "text": [
      "best_hyper_parameters: {'alpha': 0.001, 'l1_ratio': 0.6, 'penalty': 'elasticnet'}\n",
      "25 0.8 1.0 1.0 0.7142857142857143 0.8333333333333333\n",
      "data_name: 101kidney\n",
      "(array([-1.,  1.]), array([149, 149]))\n",
      "best_hyper_parameters: {'alpha': 0.001, 'l1_ratio': 0.6, 'penalty': 'elasticnet'}\n",
      "26 0.9865771812080537 1.0 0.9759036144578314 1.0 0.9878048780487805\n",
      "data_name: 102breast_cancer\n",
      "(array([-1.,  1.]), array([212, 212]))\n",
      "best_hyper_parameters: {'alpha': 0.001, 'l1_ratio': 1.0, 'penalty': 'elasticnet'}\n",
      "27 0.9764150943396226 0.9854525862068965 0.9789473684210527 0.96875 0.9738219895287958\n",
      "data_name: 103diabetes_niddk\n",
      "(array([-1.,  1.]), array([267, 267]))\n",
      "best_hyper_parameters: {'alpha': 0.01, 'l1_ratio': 0.8, 'penalty': 'elasticnet'}\n",
      "28 0.7415730337078652 0.8365070422535211 0.7545454545454545 0.664 0.7063829787234043\n",
      "data_name: 104diabetic_retinopathy\n",
      "(array([-1.,  1.]), array([536, 536]))\n",
      "best_hyper_parameters: {'alpha': 0.001, 'l1_ratio': 1.0, 'penalty': 'elasticnet'}\n",
      "29 0.6977611940298507 0.7589405080213905 0.8035714285714286 0.5113636363636364 0.625\n"
     ]
    }
   ],
   "source": [
    "n_data = len(data_list)\n",
    "roc_auc = np.zeros(n_data)   ; acc = np.zeros(n_data)\n",
    "precision = np.zeros(n_data) ; recall = np.zeros(n_data)\n",
    "f1_score = np.zeros(n_data)\n",
    "\n",
    "#data_id = 0\n",
    "for data_id in range(n_data):\n",
    "    X_train,X_test,y_train,y_test = read_data(data_id)\n",
    "    acc[data_id],roc_auc[data_id],precision[data_id],recall[data_id],f1_score[data_id] =\\\n",
    "           measure_performance(X_train,X_test,y_train,y_test)\n",
    "    print(data_id,acc[data_id],roc_auc[data_id],precision[data_id],recall[data_id],f1_score[data_id])    \n",
    "    "
   ]
  },
  {
   "cell_type": "code",
   "execution_count": 7,
   "metadata": {
    "scrolled": false
   },
   "outputs": [
    {
     "name": "stdout",
     "output_type": "stream",
     "text": [
      "acc_mean: 0.828766180467833\n",
      "roc_mean: 0.8880062498119938\n",
      "precision: 0.8347951937259641\n",
      "recall: 0.8362013942383836\n",
      "f1_score: 0.8290440819918821\n"
     ]
    }
   ],
   "source": [
    "print('acc_mean:',acc.mean())\n",
    "print('roc_mean:',roc_auc.mean())\n",
    "print('precision:',precision.mean())\n",
    "print('recall:',recall.mean())\n",
    "print('f1_score:',f1_score.mean())"
   ]
  },
  {
   "cell_type": "code",
   "execution_count": 8,
   "metadata": {},
   "outputs": [],
   "source": [
    "np.savetxt('result_median_LR.dat',(roc_auc,acc,precision,recall,f1_score),fmt='%f')"
   ]
  }
 ],
 "metadata": {
  "kernelspec": {
   "display_name": "Python 3",
   "language": "python",
   "name": "python3"
  },
  "language_info": {
   "codemirror_mode": {
    "name": "ipython",
    "version": 3
   },
   "file_extension": ".py",
   "mimetype": "text/x-python",
   "name": "python",
   "nbconvert_exporter": "python",
   "pygments_lexer": "ipython3",
   "version": "3.7.4"
  }
 },
 "nbformat": 4,
 "nbformat_minor": 2
}
