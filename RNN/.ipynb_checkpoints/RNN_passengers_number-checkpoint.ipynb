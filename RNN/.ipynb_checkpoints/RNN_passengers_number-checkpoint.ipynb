{
 "cells": [
  {
   "cell_type": "markdown",
   "metadata": {},
   "source": [
    "Adapted from https://machinelearningmastery.com/time-series-prediction-lstm-recurrent-neural-networks-python-keras/"
   ]
  },
  {
   "cell_type": "code",
   "execution_count": 2,
   "metadata": {},
   "outputs": [],
   "source": [
    "import numpy as np\n",
    "import pandas as pd\n",
    "import tensorflow as tf\n",
    "\n",
    "from tensorflow.keras import Sequential\n",
    "from tensorflow.keras.layers import Dense,Conv2D,MaxPool2D,Flatten,Dropout,LSTM\n",
    "from tensorflow.keras.utils import plot_model\n",
    "\n",
    "from sklearn.model_selection import train_test_split\n",
    "from sklearn.preprocessing import LabelEncoder\n",
    "from sklearn.metrics import confusion_matrix\n",
    "\n",
    "from matplotlib import pyplot as plt\n",
    "%matplotlib inline"
   ]
  },
  {
   "cell_type": "code",
   "execution_count": 6,
   "metadata": {},
   "outputs": [],
   "source": [
    "np.random.seed(11)"
   ]
  },
  {
   "cell_type": "code",
   "execution_count": 3,
   "metadata": {},
   "outputs": [],
   "source": [
    "# load the dataset\n",
    "path = 'https://raw.githubusercontent.com/jbrownlee/Datasets/master/airline-passengers.csv'\n",
    "df = pd.read_csv(path, header=0, index_col=0, squeeze=True)"
   ]
  },
  {
   "cell_type": "code",
   "execution_count": 4,
   "metadata": {
    "scrolled": true
   },
   "outputs": [
    {
     "data": {
      "text/plain": [
       "Month\n",
       "1949-01    112\n",
       "1949-02    118\n",
       "1949-03    132\n",
       "1949-04    129\n",
       "1949-05    121\n",
       "Name: Passengers, dtype: int64"
      ]
     },
     "execution_count": 4,
     "metadata": {},
     "output_type": "execute_result"
    }
   ],
   "source": [
    "df.head()"
   ]
  },
  {
   "cell_type": "code",
   "execution_count": 7,
   "metadata": {},
   "outputs": [],
   "source": [
    "from sklearn.preprocessing import MinMaxScaler\n",
    "from sklearn.metrics import mean_squared_error"
   ]
  },
  {
   "cell_type": "code",
   "execution_count": 8,
   "metadata": {},
   "outputs": [],
   "source": [
    "# convert an array of values into a dataset matrix\n",
    "def create_dataset(dataset, look_back=1):\n",
    "\tdataX, dataY = [], []\n",
    "\tfor i in range(len(dataset)-look_back-1):\n",
    "\t\ta = dataset[i:(i+look_back), 0]\n",
    "\t\tdataX.append(a)\n",
    "\t\tdataY.append(dataset[i + look_back, 0])\n",
    "\treturn np.array(dataX), np.array(dataY)"
   ]
  },
  {
   "cell_type": "code",
   "execution_count": 9,
   "metadata": {},
   "outputs": [],
   "source": [
    "# retrieve the values\n",
    "values = df.values.astype('float32')"
   ]
  },
  {
   "cell_type": "code",
   "execution_count": 14,
   "metadata": {
    "scrolled": true
   },
   "outputs": [
    {
     "data": {
      "text/plain": [
       "array([112., 118., 132., 129., 121., 135., 148., 148., 136., 119., 104.,\n",
       "       118., 115., 126., 141., 135., 125., 149., 170., 170.],\n",
       "      dtype=float32)"
      ]
     },
     "execution_count": 14,
     "metadata": {},
     "output_type": "execute_result"
    }
   ],
   "source": [
    "values[0:20]"
   ]
  },
  {
   "cell_type": "code",
   "execution_count": 15,
   "metadata": {},
   "outputs": [],
   "source": [
    "# normalize the dataset\n",
    "scaler = MinMaxScaler(feature_range=(0, 1))\n",
    "values = scaler.fit_transform(values.reshape(-1,1))"
   ]
  },
  {
   "cell_type": "code",
   "execution_count": 16,
   "metadata": {},
   "outputs": [],
   "source": [
    "# split into train and test sets\n",
    "train_size = int(len(values) * 0.67)\n",
    "test_size = len(values) - train_size\n",
    "train, test = values[0:train_size,:], values[train_size:len(values),:]"
   ]
  },
  {
   "cell_type": "code",
   "execution_count": 17,
   "metadata": {},
   "outputs": [],
   "source": [
    "# reshape into X=t and Y=t+1\n",
    "look_back = 1\n",
    "x_train, y_train = create_dataset(train, look_back)\n",
    "x_test, y_test = create_dataset(test, look_back)"
   ]
  },
  {
   "cell_type": "code",
   "execution_count": 18,
   "metadata": {},
   "outputs": [],
   "source": [
    "# reshape input to be [samples, time steps, features]\n",
    "x_train = np.reshape(x_train, (x_train.shape[0], 1, x_train.shape[1]))\n",
    "x_test = np.reshape(x_test, (x_test.shape[0], 1, x_test.shape[1]))"
   ]
  },
  {
   "cell_type": "code",
   "execution_count": 19,
   "metadata": {},
   "outputs": [],
   "source": [
    "# create and fit the LSTM network\n",
    "model = Sequential()\n",
    "model.add(LSTM(4, input_shape=(1, look_back)))\n",
    "model.add(Dense(1))\n",
    "\n",
    "model.compile(loss='mean_squared_error', optimizer='adam')"
   ]
  },
  {
   "cell_type": "code",
   "execution_count": 20,
   "metadata": {},
   "outputs": [
    {
     "name": "stdout",
     "output_type": "stream",
     "text": [
      "Train on 94 samples\n",
      "Epoch 1/100\n",
      "94/94 - 1s - loss: 0.0411\n",
      "Epoch 2/100\n",
      "94/94 - 0s - loss: 0.0208\n",
      "Epoch 3/100\n",
      "94/94 - 0s - loss: 0.0157\n",
      "Epoch 4/100\n",
      "94/94 - 0s - loss: 0.0143\n",
      "Epoch 5/100\n",
      "94/94 - 0s - loss: 0.0135\n",
      "Epoch 6/100\n",
      "94/94 - 0s - loss: 0.0124\n",
      "Epoch 7/100\n",
      "94/94 - 0s - loss: 0.0113\n",
      "Epoch 8/100\n",
      "94/94 - 0s - loss: 0.0100\n",
      "Epoch 9/100\n",
      "94/94 - 0s - loss: 0.0086\n",
      "Epoch 10/100\n",
      "94/94 - 0s - loss: 0.0072\n",
      "Epoch 11/100\n",
      "94/94 - 0s - loss: 0.0059\n",
      "Epoch 12/100\n",
      "94/94 - 0s - loss: 0.0047\n",
      "Epoch 13/100\n",
      "94/94 - 0s - loss: 0.0038\n",
      "Epoch 14/100\n",
      "94/94 - 0s - loss: 0.0031\n",
      "Epoch 15/100\n",
      "94/94 - 0s - loss: 0.0026\n",
      "Epoch 16/100\n",
      "94/94 - 0s - loss: 0.0023\n",
      "Epoch 17/100\n",
      "94/94 - 0s - loss: 0.0022\n",
      "Epoch 18/100\n",
      "94/94 - 0s - loss: 0.0021\n",
      "Epoch 19/100\n",
      "94/94 - 0s - loss: 0.0020\n",
      "Epoch 20/100\n",
      "94/94 - 0s - loss: 0.0021\n",
      "Epoch 21/100\n",
      "94/94 - 0s - loss: 0.0020\n",
      "Epoch 22/100\n",
      "94/94 - 0s - loss: 0.0020\n",
      "Epoch 23/100\n",
      "94/94 - 0s - loss: 0.0020\n",
      "Epoch 24/100\n",
      "94/94 - 0s - loss: 0.0020\n",
      "Epoch 25/100\n",
      "94/94 - 0s - loss: 0.0020\n",
      "Epoch 26/100\n",
      "94/94 - 0s - loss: 0.0020\n",
      "Epoch 27/100\n",
      "94/94 - 0s - loss: 0.0020\n",
      "Epoch 28/100\n",
      "94/94 - 0s - loss: 0.0020\n",
      "Epoch 29/100\n",
      "94/94 - 0s - loss: 0.0020\n",
      "Epoch 30/100\n",
      "94/94 - 0s - loss: 0.0021\n",
      "Epoch 31/100\n",
      "94/94 - 0s - loss: 0.0020\n",
      "Epoch 32/100\n",
      "94/94 - 0s - loss: 0.0020\n",
      "Epoch 33/100\n",
      "94/94 - 0s - loss: 0.0020\n",
      "Epoch 34/100\n",
      "94/94 - 0s - loss: 0.0020\n",
      "Epoch 35/100\n",
      "94/94 - 0s - loss: 0.0020\n",
      "Epoch 36/100\n",
      "94/94 - 0s - loss: 0.0020\n",
      "Epoch 37/100\n",
      "94/94 - 0s - loss: 0.0020\n",
      "Epoch 38/100\n",
      "94/94 - 0s - loss: 0.0020\n",
      "Epoch 39/100\n",
      "94/94 - 0s - loss: 0.0021\n",
      "Epoch 40/100\n",
      "94/94 - 0s - loss: 0.0020\n",
      "Epoch 41/100\n",
      "94/94 - 0s - loss: 0.0020\n",
      "Epoch 42/100\n",
      "94/94 - 0s - loss: 0.0020\n",
      "Epoch 43/100\n",
      "94/94 - 0s - loss: 0.0020\n",
      "Epoch 44/100\n",
      "94/94 - 0s - loss: 0.0020\n",
      "Epoch 45/100\n",
      "94/94 - 0s - loss: 0.0020\n",
      "Epoch 46/100\n",
      "94/94 - 0s - loss: 0.0020\n",
      "Epoch 47/100\n",
      "94/94 - 0s - loss: 0.0020\n",
      "Epoch 48/100\n",
      "94/94 - 0s - loss: 0.0020\n",
      "Epoch 49/100\n",
      "94/94 - 0s - loss: 0.0020\n",
      "Epoch 50/100\n",
      "94/94 - 0s - loss: 0.0021\n",
      "Epoch 51/100\n",
      "94/94 - 0s - loss: 0.0020\n",
      "Epoch 52/100\n",
      "94/94 - 0s - loss: 0.0020\n",
      "Epoch 53/100\n",
      "94/94 - 0s - loss: 0.0020\n",
      "Epoch 54/100\n",
      "94/94 - 0s - loss: 0.0020\n",
      "Epoch 55/100\n",
      "94/94 - 0s - loss: 0.0019\n",
      "Epoch 56/100\n",
      "94/94 - 0s - loss: 0.0021\n",
      "Epoch 57/100\n",
      "94/94 - 0s - loss: 0.0020\n",
      "Epoch 58/100\n",
      "94/94 - 0s - loss: 0.0020\n",
      "Epoch 59/100\n",
      "94/94 - 0s - loss: 0.0020\n",
      "Epoch 60/100\n",
      "94/94 - 0s - loss: 0.0021\n",
      "Epoch 61/100\n",
      "94/94 - 0s - loss: 0.0020\n",
      "Epoch 62/100\n",
      "94/94 - 0s - loss: 0.0020\n",
      "Epoch 63/100\n",
      "94/94 - 0s - loss: 0.0021\n",
      "Epoch 64/100\n",
      "94/94 - 0s - loss: 0.0020\n",
      "Epoch 65/100\n",
      "94/94 - 0s - loss: 0.0021\n",
      "Epoch 66/100\n",
      "94/94 - 0s - loss: 0.0020\n",
      "Epoch 67/100\n",
      "94/94 - 0s - loss: 0.0020\n",
      "Epoch 68/100\n",
      "94/94 - 0s - loss: 0.0020\n",
      "Epoch 69/100\n",
      "94/94 - 0s - loss: 0.0021\n",
      "Epoch 70/100\n",
      "94/94 - 0s - loss: 0.0020\n",
      "Epoch 71/100\n",
      "94/94 - 0s - loss: 0.0020\n",
      "Epoch 72/100\n",
      "94/94 - 0s - loss: 0.0020\n",
      "Epoch 73/100\n",
      "94/94 - 0s - loss: 0.0021\n",
      "Epoch 74/100\n",
      "94/94 - 0s - loss: 0.0020\n",
      "Epoch 75/100\n",
      "94/94 - 0s - loss: 0.0021\n",
      "Epoch 76/100\n",
      "94/94 - 0s - loss: 0.0020\n",
      "Epoch 77/100\n",
      "94/94 - 0s - loss: 0.0020\n",
      "Epoch 78/100\n",
      "94/94 - 0s - loss: 0.0019\n",
      "Epoch 79/100\n",
      "94/94 - 0s - loss: 0.0021\n",
      "Epoch 80/100\n",
      "94/94 - 0s - loss: 0.0019\n",
      "Epoch 81/100\n",
      "94/94 - 0s - loss: 0.0020\n",
      "Epoch 82/100\n",
      "94/94 - 0s - loss: 0.0019\n",
      "Epoch 83/100\n",
      "94/94 - 0s - loss: 0.0020\n",
      "Epoch 84/100\n",
      "94/94 - 0s - loss: 0.0020\n",
      "Epoch 85/100\n",
      "94/94 - 0s - loss: 0.0020\n",
      "Epoch 86/100\n",
      "94/94 - 0s - loss: 0.0020\n",
      "Epoch 87/100\n",
      "94/94 - 0s - loss: 0.0020\n",
      "Epoch 88/100\n",
      "94/94 - 0s - loss: 0.0020\n",
      "Epoch 89/100\n",
      "94/94 - 0s - loss: 0.0020\n",
      "Epoch 90/100\n",
      "94/94 - 0s - loss: 0.0020\n",
      "Epoch 91/100\n",
      "94/94 - 0s - loss: 0.0020\n",
      "Epoch 92/100\n",
      "94/94 - 0s - loss: 0.0020\n",
      "Epoch 93/100\n",
      "94/94 - 0s - loss: 0.0020\n",
      "Epoch 94/100\n",
      "94/94 - 0s - loss: 0.0020\n",
      "Epoch 95/100\n",
      "94/94 - 0s - loss: 0.0021\n",
      "Epoch 96/100\n",
      "94/94 - 0s - loss: 0.0020\n",
      "Epoch 97/100\n",
      "94/94 - 0s - loss: 0.0020\n",
      "Epoch 98/100\n",
      "94/94 - 0s - loss: 0.0020\n",
      "Epoch 99/100\n",
      "94/94 - 0s - loss: 0.0020\n",
      "Epoch 100/100\n",
      "94/94 - 0s - loss: 0.0019\n"
     ]
    }
   ],
   "source": [
    "history = model.fit(x_train, y_train, epochs=100, batch_size=1, verbose=2)"
   ]
  },
  {
   "cell_type": "code",
   "execution_count": 22,
   "metadata": {},
   "outputs": [],
   "source": [
    "# make predictions\n",
    "train_pred = model.predict(x_train)\n",
    "test_pred = model.predict(x_test)"
   ]
  },
  {
   "cell_type": "code",
   "execution_count": 23,
   "metadata": {},
   "outputs": [],
   "source": [
    "# invert predictions\n",
    "train_pred = scaler.inverse_transform(train_pred)\n",
    "y_train = scaler.inverse_transform([y_train])\n",
    "test_pred = scaler.inverse_transform(test_pred)\n",
    "y_test = scaler.inverse_transform([y_test])"
   ]
  },
  {
   "cell_type": "code",
   "execution_count": 25,
   "metadata": {},
   "outputs": [
    {
     "name": "stdout",
     "output_type": "stream",
     "text": [
      "Train Score: 24.31 RMSE\n",
      "Test Score: 46.90 RMSE\n"
     ]
    }
   ],
   "source": [
    "# calculate root mean squared error\n",
    "trainScore = np.sqrt(mean_squared_error(y_train[0], train_pred[:,0]))\n",
    "print('Train Score: %.2f RMSE' % (trainScore))\n",
    "\n",
    "testScore = np.sqrt(mean_squared_error(y_test[0], test_pred[:,0]))\n",
    "print('Test Score: %.2f RMSE' % (testScore))"
   ]
  },
  {
   "cell_type": "code",
   "execution_count": 27,
   "metadata": {},
   "outputs": [
    {
     "data": {
      "image/png": "[encoded data removed]",
      "text/plain": [
       "<Figure size 432x288 with 1 Axes>"
      ]
     },
     "metadata": {
      "needs_background": "light"
     },
     "output_type": "display_data"
    }
   ],
   "source": [
    "# shift train predictions for plotting\n",
    "trainPredictPlot = np.empty_like(values)\n",
    "trainPredictPlot[:, :] = np.nan\n",
    "trainPredictPlot[look_back:len(train_pred)+look_back, :] = train_pred\n",
    "\n",
    "# shift test predictions for plotting\n",
    "testPredictPlot = np.empty_like(values)\n",
    "testPredictPlot[:, :] = np.nan\n",
    "testPredictPlot[len(train_pred)+(look_back*2)+1:len(values)-1, :] = test_pred\n",
    "\n",
    "# plot baseline and predictions\n",
    "plt.plot(scaler.inverse_transform(values))\n",
    "plt.plot(trainPredictPlot)\n",
    "plt.plot(testPredictPlot)\n",
    "plt.show()"
   ]
  },
  {
   "cell_type": "code",
   "execution_count": null,
   "metadata": {},
   "outputs": [],
   "source": []
  }
 ],
 "metadata": {
  "kernelspec": {
   "display_name": "Python 3",
   "language": "python",
   "name": "python3"
  },
  "language_info": {
   "codemirror_mode": {
    "name": "ipython",
    "version": 3
   },
   "file_extension": ".py",
   "mimetype": "text/x-python",
   "name": "python",
   "nbconvert_exporter": "python",
   "pygments_lexer": "ipython3",
   "version": "3.7.4"
  }
 },
 "nbformat": 4,
 "nbformat_minor": 2
}
