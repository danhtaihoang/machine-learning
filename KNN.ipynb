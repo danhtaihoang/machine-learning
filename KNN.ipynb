{
 "cells": [
  {
   "cell_type": "markdown",
   "metadata": {},
   "source": [
    "## K-nearest neighbors (KNN)"
   ]
  },
  {
   "cell_type": "code",
   "execution_count": 1,
   "metadata": {},
   "outputs": [],
   "source": [
    "import numpy as np\n",
    "import pandas as pd\n",
    "\n",
    "from sklearn.model_selection import train_test_split,KFold\n",
    "from sklearn.utils import shuffle\n",
    "from sklearn.metrics import confusion_matrix,accuracy_score,precision_score,\\\n",
    "recall_score,roc_curve,auc\n",
    "\n",
    "#import expectation_reflection as ER\n",
    "#from sklearn.linear_model import LogisticRegression\n",
    "from sklearn.neighbors import KNeighborsClassifier\n",
    "from sklearn.model_selection import GridSearchCV\n",
    "\n",
    "import matplotlib.pyplot as plt\n",
    "import seaborn as sns\n",
    "\n",
    "from sklearn.preprocessing import MinMaxScaler\n",
    "from function import split_train_test,make_data_balance"
   ]
  },
  {
   "cell_type": "code",
   "execution_count": 2,
   "metadata": {},
   "outputs": [],
   "source": [
    "np.random.seed(1)"
   ]
  },
  {
   "cell_type": "markdown",
   "metadata": {},
   "source": [
    "First of all, the processed data are imported."
   ]
  },
  {
   "cell_type": "code",
   "execution_count": 3,
   "metadata": {},
   "outputs": [
    {
     "name": "stdout",
     "output_type": "stream",
     "text": [
      "['1paradox' '2peptide' '3stigma' '4nki' '5mental' '6smoking' '7anemia'\n",
      " '8language' '9coag' '10tazamia' '11hepato' '12heat' '13ef' '14cervix'\n",
      " '15heart' '16liver' '17nwosu' '18school' '19ibs' '21survival'\n",
      " '29parkinson' '30paradox2' '31renal' '33svr' '35pcos' '36probiotic'\n",
      " '101kidney' '102breast_cancer' '103diabetes_niddk'\n",
      " '104diabetic_retinopathy']\n"
     ]
    }
   ],
   "source": [
    "#data_list = ['1paradox']\n",
    "#data_list = np.loadtxt('data_list.txt',dtype='str')\n",
    "data_list = np.loadtxt('data_list_30sets.txt',dtype='str')\n",
    "#data_list = ['9coag']\n",
    "\n",
    "print(data_list)"
   ]
  },
  {
   "cell_type": "code",
   "execution_count": 4,
   "metadata": {},
   "outputs": [],
   "source": [
    "def read_data(data_id):    \n",
    "    data_name = data_list[data_id]\n",
    "    print('data_name:',data_name)\n",
    "    Xy = np.loadtxt('../classification_data/%s/data_processed_median.dat'%data_name) \n",
    "    X = Xy[:,:-1]\n",
    "    y = Xy[:,-1]\n",
    "\n",
    "    #print(np.unique(y,return_counts=True))\n",
    "    X,y = make_data_balance(X,y)\n",
    "    print(np.unique(y,return_counts=True))\n",
    "\n",
    "    X, y = shuffle(X, y, random_state=1)\n",
    "    X_train,X_test,y_train,y_test = train_test_split(X,y,test_size=0.5,random_state = 1)\n",
    "    \n",
    "    sc = MinMaxScaler()\n",
    "    X_train = sc.fit_transform(X_train)\n",
    "    X_test = sc.transform(X_test)\n",
    "    \n",
    "    return X_train,X_test,y_train,y_test"
   ]
  },
  {
   "cell_type": "code",
   "execution_count": 5,
   "metadata": {},
   "outputs": [],
   "source": [
    "def measure_performance(X_train,X_test,y_train,y_test):\n",
    "    \n",
    "    model = KNeighborsClassifier(algorithm='auto')\n",
    "\n",
    "    n_neighbors = [3,5,7,9,11,13,15,17]\n",
    "    \n",
    "    if len(y_train) <= 10:\n",
    "        n_neighbors = [2,3,4,5,6,7]    \n",
    "    \n",
    "    weights = ['uniform','distance']\n",
    "\n",
    "    leaf_size = np.linspace(1,10,num=10)\n",
    "    \n",
    "    # Create hyperparameter options\n",
    "    hyper_parameters = dict(n_neighbors=n_neighbors,\n",
    "                            weights=weights,\n",
    "                            leaf_size=leaf_size)\n",
    "    \n",
    "    # Create grid search using cross validation\n",
    "    clf = GridSearchCV(model, hyper_parameters, cv=4, iid='deprecated')\n",
    "    \n",
    "    # Fit grid search\n",
    "    best_model = clf.fit(X_train, y_train)\n",
    "    \n",
    "    # View best hyperparameters\n",
    "    #print('Best Penalty:', best_model.best_estimator_.get_params()['penalty'])\n",
    "    #print('Best C:', best_model.best_estimator_.get_params()['C'])\n",
    "    #print('Best alpha:', best_model.best_estimator_.get_params()['alpha'])\n",
    "    #print('Best l1_ratio:', best_model.best_estimator_.get_params()['l1_ratio'])\n",
    "    \n",
    "    # best hyper parameters\n",
    "    print('best_hyper_parameters:',best_model.best_params_)\n",
    "\n",
    "    # performance:\n",
    "    y_test_pred = best_model.best_estimator_.predict(X_test)\n",
    "    acc = accuracy_score(y_test,y_test_pred)\n",
    "    #print('Accuracy:', acc)\n",
    "\n",
    "    p_test_pred = best_model.best_estimator_.predict_proba(X_test) # prob of [0,1]\n",
    "    p_test_pred = p_test_pred[:,1] # prob of 1    \n",
    "    fp,tp,thresholds = roc_curve(y_test, p_test_pred, drop_intermediate=False)\n",
    "    roc_auc = auc(fp,tp)\n",
    "    #print('AUC:', roc_auc)\n",
    "\n",
    "    precision = precision_score(y_test,y_test_pred)\n",
    "    #print('Precision:',precision)\n",
    "\n",
    "    recall = recall_score(y_test,y_test_pred)\n",
    "    #print('Recall:',recall)\n",
    "    \n",
    "    f1_score = 2*precision*recall/(precision+recall)\n",
    "\n",
    "    return acc,roc_auc,precision,recall,f1_score"
   ]
  },
  {
   "cell_type": "code",
   "execution_count": 6,
   "metadata": {},
   "outputs": [
    {
     "name": "stdout",
     "output_type": "stream",
     "text": [
      "data_name: 1paradox\n",
      "(array([-1.,  1.]), array([60, 60]))\n",
      "best_hyper_parameters: {'leaf_size': 1.0, 'n_neighbors': 11, 'weights': 'uniform'}\n",
      "0 0.65 0.7591069330199764 0.5263157894736842 0.8695652173913043 0.6557377049180327\n",
      "data_name: 2peptide\n",
      "(array([-1.,  1.]), array([23, 23]))\n",
      "best_hyper_parameters: {'leaf_size': 1.0, 'n_neighbors': 7, 'weights': 'uniform'}\n",
      "1 0.8695652173913043 0.9769230769230769 1.0 0.7 0.8235294117647058\n",
      "data_name: 3stigma\n",
      "(array([-1.,  1.]), array([2725, 2725]))\n",
      "best_hyper_parameters: {'leaf_size': 4.0, 'n_neighbors': 5, 'weights': 'distance'}\n",
      "2 0.9023853211009174 0.9704250276079404 0.9981949458483754 0.8072992700729927 0.8926553672316384\n",
      "data_name: 4nki\n",
      "(array([-1.,  1.]), array([77, 77]))\n",
      "best_hyper_parameters: {'leaf_size': 1.0, 'n_neighbors': 13, 'weights': 'uniform'}\n",
      "3 0.6103896103896104 0.7913223140495868 0.7916666666666666 0.4318181818181818 0.5588235294117647\n",
      "data_name: 5mental\n",
      "(array([-1.,  1.]), array([147, 147]))\n",
      "best_hyper_parameters: {'leaf_size': 1.0, 'n_neighbors': 15, 'weights': 'uniform'}\n",
      "4 0.6190476190476191 0.7143255295429208 0.775 0.3974358974358974 0.5254237288135594\n",
      "data_name: 6smoking\n",
      "(array([-1.,  1.]), array([722, 722]))\n",
      "best_hyper_parameters: {'leaf_size': 1.0, 'n_neighbors': 5, 'weights': 'uniform'}\n",
      "5 0.925207756232687 0.9647695436926738 0.9023136246786633 0.9564032697547684 0.9285714285714286\n",
      "data_name: 7anemia\n",
      "(array([-1.,  1.]), array([43, 43]))\n",
      "best_hyper_parameters: {'leaf_size': 1.0, 'n_neighbors': 5, 'weights': 'uniform'}\n",
      "6 0.6976744186046512 0.7611111111111111 0.875 0.56 0.6829268292682927\n",
      "data_name: 8language\n",
      "(array([-1.,  1.]), array([267, 267]))\n",
      "best_hyper_parameters: {'leaf_size': 1.0, 'n_neighbors': 17, 'weights': 'distance'}\n",
      "7 0.7602996254681648 0.8102828917826672 0.7723577235772358 0.7251908396946565 0.748031496062992\n",
      "data_name: 9coag\n",
      "(array([-1.,  1.]), array([504, 504]))\n",
      "best_hyper_parameters: {'leaf_size': 1.0, 'n_neighbors': 15, 'weights': 'distance'}\n",
      "8 0.5615079365079365 0.6120944185679325 0.5982142857142857 0.5056603773584906 0.5480572597137013\n",
      "data_name: 10tazamia\n",
      "(array([-1.,  1.]), array([124, 124]))\n",
      "best_hyper_parameters: {'leaf_size': 1.0, 'n_neighbors': 17, 'weights': 'distance'}\n",
      "9 0.7016129032258065 0.7548891786179921 0.868421052631579 0.5076923076923077 0.6407766990291263\n",
      "data_name: 11hepato\n",
      "(array([-1.,  1.]), array([63, 63]))\n",
      "best_hyper_parameters: {'leaf_size': 1.0, 'n_neighbors': 11, 'weights': 'uniform'}\n",
      "10 0.6825396825396826 0.6878787878787879 0.6756756756756757 0.7575757575757576 0.7142857142857142\n",
      "data_name: 12heat\n",
      "(array([-1.,  1.]), array([83, 83]))\n",
      "best_hyper_parameters: {'leaf_size': 1.0, 'n_neighbors': 15, 'weights': 'distance'}\n",
      "11 0.4457831325301205 0.5075493612078978 0.4444444444444444 0.38095238095238093 0.41025641025641024\n",
      "data_name: 13ef\n",
      "(array([-1.,  1.]), array([93, 93]))\n",
      "best_hyper_parameters: {'leaf_size': 1.0, 'n_neighbors': 3, 'weights': 'uniform'}\n",
      "12 0.9139784946236559 0.9266882516188714 0.8679245283018868 0.9787234042553191 0.9199999999999999\n",
      "data_name: 14cervix\n",
      "(array([-1.,  1.]), array([24, 24]))\n",
      "best_hyper_parameters: {'leaf_size': 1.0, 'n_neighbors': 15, 'weights': 'distance'}\n",
      "13 0.75 0.962962962962963 1.0 0.3333333333333333 0.5\n",
      "data_name: 15heart\n",
      "(array([-1.,  1.]), array([138, 138]))\n",
      "best_hyper_parameters: {'leaf_size': 1.0, 'n_neighbors': 13, 'weights': 'uniform'}\n",
      "14 0.855072463768116 0.9138040042149632 0.8169014084507042 0.8923076923076924 0.8529411764705882\n",
      "data_name: 16liver\n",
      "(array([-1.,  1.]), array([167, 167]))\n",
      "best_hyper_parameters: {'leaf_size': 1.0, 'n_neighbors': 9, 'weights': 'uniform'}\n",
      "15 0.6706586826347305 0.7142241379310345 0.6033057851239669 0.9125 0.7263681592039801\n",
      "data_name: 17nwosu\n",
      "(array([-1.,  1.]), array([59, 59]))\n",
      "best_hyper_parameters: {'leaf_size': 1.0, 'n_neighbors': 5, 'weights': 'uniform'}\n",
      "16 0.9491525423728814 0.9907834101382489 0.9375 0.967741935483871 0.9523809523809523\n",
      "data_name: 18school\n",
      "(array([-1.,  1.]), array([68, 68]))\n",
      "best_hyper_parameters: {'leaf_size': 1.0, 'n_neighbors': 3, 'weights': 'uniform'}\n",
      "17 0.9264705882352942 0.9510822510822511 0.9117647058823529 0.9393939393939394 0.9253731343283583\n",
      "data_name: 19ibs\n",
      "(array([-1.,  1.]), array([33, 33]))\n",
      "best_hyper_parameters: {'leaf_size': 1.0, 'n_neighbors': 11, 'weights': 'distance'}\n",
      "18 0.7272727272727273 0.7703703703703704 0.8461538461538461 0.6111111111111112 0.7096774193548387\n",
      "data_name: 21survival\n",
      "(array([-1.,  1.]), array([123, 123]))\n",
      "best_hyper_parameters: {'leaf_size': 1.0, 'n_neighbors': 5, 'weights': 'uniform'}\n",
      "19 0.6341463414634146 0.6833333333333333 0.6530612244897959 0.5333333333333333 0.5871559633027523\n",
      "data_name: 29parkinson\n",
      "(array([-1.,  1.]), array([48, 48]))\n",
      "best_hyper_parameters: {'leaf_size': 1.0, 'n_neighbors': 13, 'weights': 'distance'}\n",
      "20 0.7708333333333334 0.8723776223776223 0.8947368421052632 0.6538461538461539 0.7555555555555555\n",
      "data_name: 30paradox2\n",
      "(array([-1.,  1.]), array([52, 52]))\n",
      "best_hyper_parameters: {'leaf_size': 1.0, 'n_neighbors': 15, 'weights': 'distance'}\n",
      "21 0.5961538461538461 0.6168639053254438 0.5925925925925926 0.6153846153846154 0.6037735849056604\n",
      "data_name: 31renal\n",
      "(array([-1.,  1.]), array([47, 47]))\n",
      "best_hyper_parameters: {'leaf_size': 1.0, 'n_neighbors': 3, 'weights': 'uniform'}\n",
      "22 0.6595744680851063 0.7259259259259259 0.8666666666666667 0.48148148148148145 0.6190476190476191\n",
      "data_name: 33svr\n",
      "(array([-1.,  1.]), array([41, 41]))\n",
      "best_hyper_parameters: {'leaf_size': 1.0, 'n_neighbors': 7, 'weights': 'uniform'}\n",
      "23 0.8780487804878049 0.9794685990338164 0.8095238095238095 0.9444444444444444 0.8717948717948718\n",
      "data_name: 35pcos\n",
      "(array([-1.,  1.]), array([177, 177]))\n",
      "best_hyper_parameters: {'leaf_size': 1.0, 'n_neighbors': 7, 'weights': 'uniform'}\n",
      "24 0.7909604519774012 0.8626787538304391 0.7865168539325843 0.7954545454545454 0.7909604519774012\n",
      "data_name: 36probiotic\n",
      "(array([-1.,  1.]), array([10, 10]))\n",
      "best_hyper_parameters: {'leaf_size': 1.0, 'n_neighbors': 4, 'weights': 'uniform'}\n",
      "25 0.7 1.0 1.0 0.5 0.6666666666666666\n",
      "data_name: 101kidney\n",
      "(array([-1.,  1.]), array([149, 149]))\n",
      "best_hyper_parameters: {'leaf_size': 1.0, 'n_neighbors': 3, 'weights': 'uniform'}\n",
      "26 0.9664429530201343 0.9736842105263157 0.9358974358974359 1.0 0.9668874172185431\n",
      "data_name: 102breast_cancer\n",
      "(array([-1.,  1.]), array([212, 212]))\n",
      "best_hyper_parameters: {'leaf_size': 1.0, 'n_neighbors': 13, 'weights': 'distance'}\n",
      "27 0.9622641509433962 0.9949197860962566 0.97 0.9509803921568627 0.9603960396039604\n",
      "data_name: 103diabetes_niddk\n",
      "(array([-1.,  1.]), array([267, 267]))\n",
      "best_hyper_parameters: {'leaf_size': 1.0, 'n_neighbors': 15, 'weights': 'uniform'}\n",
      "28 0.704119850187266 0.8041465604309281 0.6923076923076923 0.7388059701492538 0.7148014440433212\n",
      "data_name: 104diabetic_retinopathy\n",
      "(array([-1.,  1.]), array([536, 536]))\n",
      "best_hyper_parameters: {'leaf_size': 1.0, 'n_neighbors': 5, 'weights': 'uniform'}\n",
      "29 0.6324626865671642 0.6548618861607143 0.6224066390041494 0.5859375 0.6036217303822937\n"
     ]
    }
   ],
   "source": [
    "n_data = len(data_list)\n",
    "roc_auc = np.zeros(n_data)   ; acc = np.zeros(n_data)\n",
    "precision = np.zeros(n_data) ; recall = np.zeros(n_data)\n",
    "f1_score = np.zeros(n_data)\n",
    "\n",
    "#data_id = 0\n",
    "for data_id in range(n_data):\n",
    "    X_train,X_test,y_train,y_test = read_data(data_id)\n",
    "    acc[data_id],roc_auc[data_id],precision[data_id],recall[data_id],f1_score[data_id] =\\\n",
    "           measure_performance(X_train,X_test,y_train,y_test)\n",
    "    print(data_id,acc[data_id],roc_auc[data_id],precision[data_id],recall[data_id],f1_score[data_id])    \n",
    "    "
   ]
  },
  {
   "cell_type": "code",
   "execution_count": 7,
   "metadata": {
    "scrolled": false
   },
   "outputs": [
    {
     "name": "stdout",
     "output_type": "stream",
     "text": [
      "acc_mean: 0.7504541861388259\n",
      "roc_mean: 0.8236284715120689\n",
      "precision: 0.8011621413047787\n",
      "recall: 0.7011457783960897\n",
      "f1_score: 0.7285492588521578\n"
     ]
    }
   ],
   "source": [
    "print('acc_mean:',acc.mean())\n",
    "print('roc_mean:',roc_auc.mean())\n",
    "print('precision:',precision.mean())\n",
    "print('recall:',recall.mean())\n",
    "print('f1_score:',f1_score.mean())"
   ]
  },
  {
   "cell_type": "code",
   "execution_count": 8,
   "metadata": {},
   "outputs": [],
   "source": [
    "np.savetxt('result_KNN_median.dat',(roc_auc,acc,precision,recall,f1_score),fmt='%f')"
   ]
  },
  {
   "cell_type": "code",
   "execution_count": null,
   "metadata": {},
   "outputs": [],
   "source": []
  }
 ],
 "metadata": {
  "kernelspec": {
   "display_name": "Python 3",
   "language": "python",
   "name": "python3"
  },
  "language_info": {
   "codemirror_mode": {
    "name": "ipython",
    "version": 3
   },
   "file_extension": ".py",
   "mimetype": "text/x-python",
   "name": "python",
   "nbconvert_exporter": "python",
   "pygments_lexer": "ipython3",
   "version": "3.7.4"
  }
 },
 "nbformat": 4,
 "nbformat_minor": 2
}
